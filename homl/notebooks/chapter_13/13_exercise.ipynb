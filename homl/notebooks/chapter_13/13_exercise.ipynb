{
 "cells": [
  {
   "cell_type": "markdown",
   "metadata": {},
   "source": [
    "# 13. Loading and Preprocessing Data with TensorFlow"
   ]
  },
  {
   "cell_type": "markdown",
   "metadata": {},
   "source": [
    "#### Setup"
   ]
  },
  {
   "cell_type": "code",
   "execution_count": 1,
   "metadata": {},
   "outputs": [
    {
     "name": "stderr",
     "output_type": "stream",
     "text": [
      "/Users/mmenendezg/Developer/Books/.venv/lib/python3.10/site-packages/tqdm/auto.py:22: TqdmWarning: IProgress not found. Please update jupyter and ipywidgets. See https://ipywidgets.readthedocs.io/en/stable/user_install.html\n",
      "  from .autonotebook import tqdm as notebook_tqdm\n"
     ]
    }
   ],
   "source": [
    "import os\n",
    "from contextlib import ExitStack\n",
    "from datetime import datetime\n",
    "\n",
    "import matplotlib.pyplot as plt\n",
    "import numpy as np\n",
    "\n",
    "import tensorflow as tf\n",
    "from tensorflow import keras, data\n",
    "from keras import (\n",
    "    callbacks,\n",
    "    layers,\n",
    "    losses,\n",
    "    metrics,\n",
    "    optimizers,\n",
    "    Sequential,\n",
    ")\n",
    "from tensorflow.train import Example, Feature, Features, BytesList, Int64List, FloatList\n",
    "import tensorflow_datasets as tfds\n",
    "import tensorflow_hub as hub\n"
   ]
  },
  {
   "cell_type": "code",
   "execution_count": 2,
   "metadata": {},
   "outputs": [],
   "source": [
    "DATASET_PATH = os.path.join('/', 'Users', 'mmenendezg', 'Developer', 'Datasets', 'fashion_mnist')\n",
    "IMDB_PATH = os.path.join('/', 'Users', 'mmenendezg', 'Developer', 'Datasets', 'imdb_reviews')\n",
    "SAVE_MODEL_PATH = os.path.join(\"..\", \"..\", \"models\", \"chapter_13\")\n",
    "SHUFFLE_BUFFER = 60000\n",
    "AUTOTUNE = tf.data.AUTOTUNE\n",
    "BATCH_SIZE = 4096\n",
    "\n",
    "os.makedirs(DATASET_PATH, exist_ok=True)"
   ]
  },
  {
   "cell_type": "code",
   "execution_count": 3,
   "metadata": {},
   "outputs": [],
   "source": [
    "def get_log_dir():\n",
    "    datetime_dir = datetime.now().strftime(\"%Y%m%d_%H%M\")\n",
    "    log_dir = os.path.join('..', \"..\", \"reports\", \"logs\", datetime_dir)\n",
    "    return log_dir"
   ]
  },
  {
   "cell_type": "markdown",
   "metadata": {},
   "source": [
    "#### 9. Load the Fashion MNIST dataset (introduced in Chapter 10); split it into a training set, a validation set, and a test set; shuffle the training set; and save each dataset to multiple TFRecord files. Each record should be a serialized Example protobuf with two features: the serialized image (use tf.io.serialize_tensor() to serialize each image), and the label.⁠ Then use tf.data to create an efficient dataset for each set. Finally, use a Keras model to train these datasets, including a preprocessing layer to standardize each input feature. Try to make the input pipeline as efficient as possible, using TensorBoard to visualize profiling data."
   ]
  },
  {
   "cell_type": "code",
   "execution_count": 4,
   "metadata": {},
   "outputs": [
    {
     "name": "stdout",
     "output_type": "stream",
     "text": [
      "Metal device set to: Apple M1 Pro\n",
      "\n",
      "systemMemory: 32.00 GB\n",
      "maxCacheSize: 10.67 GB\n",
      "\n"
     ]
    }
   ],
   "source": [
    "tf.random.set_seed(1992)\n",
    "\n",
    "train_set, valid_set, test_set = tfds.load(\n",
    "    name=\"fashion_mnist\",\n",
    "    data_dir=DATASET_PATH,\n",
    "    split=[\"train[:90%]\", \"train[90%:]\", \"test\"],\n",
    "    as_supervised=True\n",
    ")"
   ]
  },
  {
   "cell_type": "code",
   "execution_count": 5,
   "metadata": {},
   "outputs": [],
   "source": [
    "def create_example(image, label):\n",
    "    \"\"\"This function creates an example protobufs using the image \n",
    "    and label of the `fashion_mnist` dataset\n",
    "\n",
    "    Args:\n",
    "        image (tf.Tensor): Array containing the values of the image\n",
    "        label (int): Value of the class of the image\n",
    "\n",
    "    Returns:\n",
    "        binary protobuf: Protobuf containing the image and the label \n",
    "    \"\"\"\n",
    "    image_data = tf.io.serialize_tensor(image)\n",
    "    label_data = tf.io.serialize_tensor(label)\n",
    "    feature = {\n",
    "        \"image\": Feature(bytes_list=BytesList(value=[image_data.numpy()])),\n",
    "        \"label\": Feature(int64_list=Int64List(value=[label.numpy()])),\n",
    "    }\n",
    "    \n",
    "    return Example(\n",
    "        features=Features(\n",
    "            feature=feature\n",
    "        )\n",
    "    )\n",
    "\n",
    "\n",
    "def save_protobufs(dataset, set_type=\"train\", n_shards=10):\n",
    "    \"\"\"This function divides the set into multiple mini sets,\n",
    "    and saves the images as protobufs in several files\n",
    "\n",
    "    Args:\n",
    "        set (tf.data.Dataset): set of tuples (images, target) of the fashion_mnist dataset\n",
    "    \"\"\"\n",
    "    if set_type == \"train\":\n",
    "        dataset.shuffle(SHUFFLE_BUFFER)\n",
    "    files = [\n",
    "        f\"{set_type}.tfrecord-{shard:05d}-of-{n_shards:05d}\"\n",
    "        for shard in range(n_shards)\n",
    "    ]\n",
    "    file_paths = [os.path.join(DATASET_PATH, file_path) for file_path in files]\n",
    "    with ExitStack() as stack:\n",
    "        writers = [stack.enter_context(tf.io.TFRecordWriter(file)) for file in file_paths]\n",
    "        for index, (image, label) in dataset.enumerate():\n",
    "            shard = index % n_shards\n",
    "            example = create_example(image, label)\n",
    "            writers[shard].write(example.SerializeToString())\n",
    "    return file_paths"
   ]
  },
  {
   "cell_type": "code",
   "execution_count": 6,
   "metadata": {},
   "outputs": [],
   "source": [
    "train_files = save_protobufs(train_set, \"train\", n_shards=2)\n",
    "valid_files = save_protobufs(valid_set, \"valid\", n_shards=2)\n",
    "test_files = save_protobufs(test_set, \"test\", n_shards=2)\n"
   ]
  },
  {
   "cell_type": "code",
   "execution_count": 7,
   "metadata": {},
   "outputs": [],
   "source": [
    "def get_record(tfrecord):\n",
    "    feature_descriptions = {\n",
    "        \"image\": tf.io.FixedLenFeature([], tf.string, default_value=\"\"),\n",
    "        \"label\": tf.io.FixedLenFeature([], tf.int64, default_value=-1),\n",
    "    }\n",
    "    example = tf.io.parse_single_example(tfrecord, feature_descriptions)\n",
    "    image = tf.io.parse_tensor(example[\"image\"], out_type=tf.uint8)\n",
    "    image = tf.reshape(image, shape=[28, 28])\n",
    "    return image, example[\"label\"]\n",
    "\n",
    "\n",
    "def mnist_dataset(file_paths, cache=True, shuffle_buffer_size=None):\n",
    "\n",
    "    dataset = tf.data.TFRecordDataset(file_paths, num_parallel_reads=AUTOTUNE)\n",
    "\n",
    "    if cache:\n",
    "        dataset = dataset.cache()\n",
    "    if shuffle_buffer_size:\n",
    "        dataset = dataset.shuffle(shuffle_buffer_size)\n",
    "    dataset = (\n",
    "        dataset.map(get_record, num_parallel_calls=AUTOTUNE)\n",
    "        .batch(BATCH_SIZE)\n",
    "        .prefetch(AUTOTUNE)\n",
    "    )\n",
    "    return dataset\n"
   ]
  },
  {
   "cell_type": "code",
   "execution_count": 8,
   "metadata": {},
   "outputs": [],
   "source": [
    "train_set = mnist_dataset(train_files, shuffle_buffer_size=SHUFFLE_BUFFER)\n",
    "valid_set = mnist_dataset(valid_files)\n",
    "test_set = mnist_dataset(test_files)"
   ]
  },
  {
   "cell_type": "code",
   "execution_count": 9,
   "metadata": {},
   "outputs": [
    {
     "data": {
      "image/png": "[encoded data removed]",
      "text/plain": [
       "<Figure size 640x480 with 5 Axes>"
      ]
     },
     "metadata": {},
     "output_type": "display_data"
    }
   ],
   "source": [
    "for x, y in train_set.take(1):\n",
    "    for i in range(5):\n",
    "        plt.subplot(1, 5, i + 1)\n",
    "        plt.imshow(x[i].numpy(), cmap=\"binary\")\n",
    "        plt.axis(\"off\")\n",
    "        plt.title(str(y[i].numpy()))"
   ]
  },
  {
   "cell_type": "code",
   "execution_count": 10,
   "metadata": {},
   "outputs": [
    {
     "name": "stdout",
     "output_type": "stream",
     "text": [
      "Epoch 1/50\n",
      "     14/Unknown - 1s 45ms/step - loss: 1.3150 - accuracy: 0.5630INFO:tensorflow:Assets written to: ../../models/chapter_13/fashion_mnist/assets\n"
     ]
    },
    {
     "name": "stderr",
     "output_type": "stream",
     "text": [
      "INFO:tensorflow:Assets written to: ../../models/chapter_13/fashion_mnist/assets\n"
     ]
    },
    {
     "name": "stdout",
     "output_type": "stream",
     "text": [
      "14/14 [==============================] - 2s 114ms/step - loss: 1.3150 - accuracy: 0.5630 - val_loss: 0.7107 - val_accuracy: 0.7532\n",
      "Epoch 2/50\n",
      "13/14 [==========================>...] - ETA: 0s - loss: 0.6378 - accuracy: 0.7784INFO:tensorflow:Assets written to: ../../models/chapter_13/fashion_mnist/assets\n"
     ]
    },
    {
     "name": "stderr",
     "output_type": "stream",
     "text": [
      "INFO:tensorflow:Assets written to: ../../models/chapter_13/fashion_mnist/assets\n"
     ]
    },
    {
     "name": "stdout",
     "output_type": "stream",
     "text": [
      "14/14 [==============================] - 1s 96ms/step - loss: 0.6368 - accuracy: 0.7785 - val_loss: 0.5670 - val_accuracy: 0.8017\n",
      "Epoch 3/50\n",
      "13/14 [==========================>...] - ETA: 0s - loss: 0.5315 - accuracy: 0.8123INFO:tensorflow:Assets written to: ../../models/chapter_13/fashion_mnist/assets\n"
     ]
    },
    {
     "name": "stderr",
     "output_type": "stream",
     "text": [
      "INFO:tensorflow:Assets written to: ../../models/chapter_13/fashion_mnist/assets\n"
     ]
    },
    {
     "name": "stdout",
     "output_type": "stream",
     "text": [
      "14/14 [==============================] - 2s 109ms/step - loss: 0.5317 - accuracy: 0.8122 - val_loss: 0.5347 - val_accuracy: 0.8017\n",
      "Epoch 4/50\n",
      "13/14 [==========================>...] - ETA: 0s - loss: 0.4864 - accuracy: 0.8268INFO:tensorflow:Assets written to: ../../models/chapter_13/fashion_mnist/assets\n"
     ]
    },
    {
     "name": "stderr",
     "output_type": "stream",
     "text": [
      "INFO:tensorflow:Assets written to: ../../models/chapter_13/fashion_mnist/assets\n"
     ]
    },
    {
     "name": "stdout",
     "output_type": "stream",
     "text": [
      "14/14 [==============================] - 1s 90ms/step - loss: 0.4856 - accuracy: 0.8273 - val_loss: 0.4615 - val_accuracy: 0.8347\n",
      "Epoch 5/50\n",
      "13/14 [==========================>...] - ETA: 0s - loss: 0.4492 - accuracy: 0.8406INFO:tensorflow:Assets written to: ../../models/chapter_13/fashion_mnist/assets\n"
     ]
    },
    {
     "name": "stderr",
     "output_type": "stream",
     "text": [
      "INFO:tensorflow:Assets written to: ../../models/chapter_13/fashion_mnist/assets\n"
     ]
    },
    {
     "name": "stdout",
     "output_type": "stream",
     "text": [
      "14/14 [==============================] - 1s 96ms/step - loss: 0.4490 - accuracy: 0.8406 - val_loss: 0.5146 - val_accuracy: 0.8138\n",
      "Epoch 6/50\n",
      "13/14 [==========================>...] - ETA: 0s - loss: 0.4435 - accuracy: 0.8414INFO:tensorflow:Assets written to: ../../models/chapter_13/fashion_mnist/assets\n"
     ]
    },
    {
     "name": "stderr",
     "output_type": "stream",
     "text": [
      "INFO:tensorflow:Assets written to: ../../models/chapter_13/fashion_mnist/assets\n"
     ]
    },
    {
     "name": "stdout",
     "output_type": "stream",
     "text": [
      "14/14 [==============================] - 1s 97ms/step - loss: 0.4436 - accuracy: 0.8414 - val_loss: 0.4439 - val_accuracy: 0.8365\n",
      "Epoch 7/50\n",
      "13/14 [==========================>...] - ETA: 0s - loss: 0.4113 - accuracy: 0.8556INFO:tensorflow:Assets written to: ../../models/chapter_13/fashion_mnist/assets\n"
     ]
    },
    {
     "name": "stderr",
     "output_type": "stream",
     "text": [
      "INFO:tensorflow:Assets written to: ../../models/chapter_13/fashion_mnist/assets\n"
     ]
    },
    {
     "name": "stdout",
     "output_type": "stream",
     "text": [
      "14/14 [==============================] - 1s 90ms/step - loss: 0.4113 - accuracy: 0.8556 - val_loss: 0.4266 - val_accuracy: 0.8485\n",
      "Epoch 8/50\n",
      "13/14 [==========================>...] - ETA: 0s - loss: 0.3946 - accuracy: 0.8620INFO:tensorflow:Assets written to: ../../models/chapter_13/fashion_mnist/assets\n"
     ]
    },
    {
     "name": "stderr",
     "output_type": "stream",
     "text": [
      "INFO:tensorflow:Assets written to: ../../models/chapter_13/fashion_mnist/assets\n"
     ]
    },
    {
     "name": "stdout",
     "output_type": "stream",
     "text": [
      "14/14 [==============================] - 1s 97ms/step - loss: 0.3946 - accuracy: 0.8619 - val_loss: 0.4099 - val_accuracy: 0.8570\n",
      "Epoch 9/50\n",
      "13/14 [==========================>...] - ETA: 0s - loss: 0.3916 - accuracy: 0.8624INFO:tensorflow:Assets written to: ../../models/chapter_13/fashion_mnist/assets\n"
     ]
    },
    {
     "name": "stderr",
     "output_type": "stream",
     "text": [
      "INFO:tensorflow:Assets written to: ../../models/chapter_13/fashion_mnist/assets\n"
     ]
    },
    {
     "name": "stdout",
     "output_type": "stream",
     "text": [
      "14/14 [==============================] - 1s 88ms/step - loss: 0.3911 - accuracy: 0.8625 - val_loss: 0.3878 - val_accuracy: 0.8607\n",
      "Epoch 10/50\n",
      "13/14 [==========================>...] - ETA: 0s - loss: 0.3741 - accuracy: 0.8682INFO:tensorflow:Assets written to: ../../models/chapter_13/fashion_mnist/assets\n"
     ]
    },
    {
     "name": "stderr",
     "output_type": "stream",
     "text": [
      "INFO:tensorflow:Assets written to: ../../models/chapter_13/fashion_mnist/assets\n"
     ]
    },
    {
     "name": "stdout",
     "output_type": "stream",
     "text": [
      "14/14 [==============================] - 1s 98ms/step - loss: 0.3744 - accuracy: 0.8681 - val_loss: 0.4507 - val_accuracy: 0.8378\n",
      "Epoch 11/50\n",
      "13/14 [==========================>...] - ETA: 0s - loss: 0.3853 - accuracy: 0.8629INFO:tensorflow:Assets written to: ../../models/chapter_13/fashion_mnist/assets\n"
     ]
    },
    {
     "name": "stderr",
     "output_type": "stream",
     "text": [
      "INFO:tensorflow:Assets written to: ../../models/chapter_13/fashion_mnist/assets\n"
     ]
    },
    {
     "name": "stdout",
     "output_type": "stream",
     "text": [
      "14/14 [==============================] - 1s 98ms/step - loss: 0.3848 - accuracy: 0.8632 - val_loss: 0.3775 - val_accuracy: 0.8667\n",
      "Epoch 12/50\n",
      "13/14 [==========================>...] - ETA: 0s - loss: 0.3641 - accuracy: 0.8719INFO:tensorflow:Assets written to: ../../models/chapter_13/fashion_mnist/assets\n"
     ]
    },
    {
     "name": "stderr",
     "output_type": "stream",
     "text": [
      "INFO:tensorflow:Assets written to: ../../models/chapter_13/fashion_mnist/assets\n"
     ]
    },
    {
     "name": "stdout",
     "output_type": "stream",
     "text": [
      "14/14 [==============================] - 1s 88ms/step - loss: 0.3637 - accuracy: 0.8722 - val_loss: 0.3802 - val_accuracy: 0.8638\n",
      "Epoch 13/50\n",
      "13/14 [==========================>...] - ETA: 0s - loss: 0.3482 - accuracy: 0.8778INFO:tensorflow:Assets written to: ../../models/chapter_13/fashion_mnist/assets\n"
     ]
    },
    {
     "name": "stderr",
     "output_type": "stream",
     "text": [
      "INFO:tensorflow:Assets written to: ../../models/chapter_13/fashion_mnist/assets\n"
     ]
    },
    {
     "name": "stdout",
     "output_type": "stream",
     "text": [
      "14/14 [==============================] - 1s 97ms/step - loss: 0.3482 - accuracy: 0.8777 - val_loss: 0.3773 - val_accuracy: 0.8633\n",
      "Epoch 14/50\n",
      "13/14 [==========================>...] - ETA: 0s - loss: 0.3440 - accuracy: 0.8798INFO:tensorflow:Assets written to: ../../models/chapter_13/fashion_mnist/assets\n"
     ]
    },
    {
     "name": "stderr",
     "output_type": "stream",
     "text": [
      "INFO:tensorflow:Assets written to: ../../models/chapter_13/fashion_mnist/assets\n"
     ]
    },
    {
     "name": "stdout",
     "output_type": "stream",
     "text": [
      "14/14 [==============================] - 1s 91ms/step - loss: 0.3441 - accuracy: 0.8799 - val_loss: 0.3828 - val_accuracy: 0.8618\n",
      "Epoch 15/50\n",
      "13/14 [==========================>...] - ETA: 0s - loss: 0.3479 - accuracy: 0.8772INFO:tensorflow:Assets written to: ../../models/chapter_13/fashion_mnist/assets\n"
     ]
    },
    {
     "name": "stderr",
     "output_type": "stream",
     "text": [
      "INFO:tensorflow:Assets written to: ../../models/chapter_13/fashion_mnist/assets\n"
     ]
    },
    {
     "name": "stdout",
     "output_type": "stream",
     "text": [
      "14/14 [==============================] - 1s 96ms/step - loss: 0.3480 - accuracy: 0.8770 - val_loss: 0.3663 - val_accuracy: 0.8655\n",
      "Epoch 16/50\n",
      "13/14 [==========================>...] - ETA: 0s - loss: 0.3332 - accuracy: 0.8827INFO:tensorflow:Assets written to: ../../models/chapter_13/fashion_mnist/assets\n"
     ]
    },
    {
     "name": "stderr",
     "output_type": "stream",
     "text": [
      "INFO:tensorflow:Assets written to: ../../models/chapter_13/fashion_mnist/assets\n"
     ]
    },
    {
     "name": "stdout",
     "output_type": "stream",
     "text": [
      "14/14 [==============================] - 1s 97ms/step - loss: 0.3328 - accuracy: 0.8829 - val_loss: 0.3662 - val_accuracy: 0.8678\n",
      "Epoch 17/50\n",
      "13/14 [==========================>...] - ETA: 0s - loss: 0.3370 - accuracy: 0.8794INFO:tensorflow:Assets written to: ../../models/chapter_13/fashion_mnist/assets\n"
     ]
    },
    {
     "name": "stderr",
     "output_type": "stream",
     "text": [
      "INFO:tensorflow:Assets written to: ../../models/chapter_13/fashion_mnist/assets\n"
     ]
    },
    {
     "name": "stdout",
     "output_type": "stream",
     "text": [
      "14/14 [==============================] - 1s 89ms/step - loss: 0.3365 - accuracy: 0.8796 - val_loss: 0.3608 - val_accuracy: 0.8717\n",
      "Epoch 18/50\n",
      "13/14 [==========================>...] - ETA: 0s - loss: 0.3222 - accuracy: 0.8858INFO:tensorflow:Assets written to: ../../models/chapter_13/fashion_mnist/assets\n"
     ]
    },
    {
     "name": "stderr",
     "output_type": "stream",
     "text": [
      "INFO:tensorflow:Assets written to: ../../models/chapter_13/fashion_mnist/assets\n"
     ]
    },
    {
     "name": "stdout",
     "output_type": "stream",
     "text": [
      "14/14 [==============================] - 1s 98ms/step - loss: 0.3223 - accuracy: 0.8859 - val_loss: 0.3698 - val_accuracy: 0.8663\n",
      "Epoch 19/50\n",
      "13/14 [==========================>...] - ETA: 0s - loss: 0.3294 - accuracy: 0.8829INFO:tensorflow:Assets written to: ../../models/chapter_13/fashion_mnist/assets\n"
     ]
    },
    {
     "name": "stderr",
     "output_type": "stream",
     "text": [
      "INFO:tensorflow:Assets written to: ../../models/chapter_13/fashion_mnist/assets\n"
     ]
    },
    {
     "name": "stdout",
     "output_type": "stream",
     "text": [
      "14/14 [==============================] - 1s 88ms/step - loss: 0.3295 - accuracy: 0.8831 - val_loss: 0.3560 - val_accuracy: 0.8722\n",
      "Epoch 20/50\n",
      "13/14 [==========================>...] - ETA: 0s - loss: 0.3173 - accuracy: 0.8881INFO:tensorflow:Assets written to: ../../models/chapter_13/fashion_mnist/assets\n"
     ]
    },
    {
     "name": "stderr",
     "output_type": "stream",
     "text": [
      "INFO:tensorflow:Assets written to: ../../models/chapter_13/fashion_mnist/assets\n"
     ]
    },
    {
     "name": "stdout",
     "output_type": "stream",
     "text": [
      "14/14 [==============================] - 1s 99ms/step - loss: 0.3172 - accuracy: 0.8882 - val_loss: 0.3594 - val_accuracy: 0.8707\n",
      "Epoch 21/50\n",
      "13/14 [==========================>...] - ETA: 0s - loss: 0.3117 - accuracy: 0.8896INFO:tensorflow:Assets written to: ../../models/chapter_13/fashion_mnist/assets\n"
     ]
    },
    {
     "name": "stderr",
     "output_type": "stream",
     "text": [
      "INFO:tensorflow:Assets written to: ../../models/chapter_13/fashion_mnist/assets\n"
     ]
    },
    {
     "name": "stdout",
     "output_type": "stream",
     "text": [
      "14/14 [==============================] - 1s 88ms/step - loss: 0.3114 - accuracy: 0.8897 - val_loss: 0.3524 - val_accuracy: 0.8735\n",
      "Epoch 22/50\n",
      "13/14 [==========================>...] - ETA: 0s - loss: 0.3049 - accuracy: 0.8916INFO:tensorflow:Assets written to: ../../models/chapter_13/fashion_mnist/assets\n"
     ]
    },
    {
     "name": "stderr",
     "output_type": "stream",
     "text": [
      "INFO:tensorflow:Assets written to: ../../models/chapter_13/fashion_mnist/assets\n"
     ]
    },
    {
     "name": "stdout",
     "output_type": "stream",
     "text": [
      "14/14 [==============================] - 1s 97ms/step - loss: 0.3046 - accuracy: 0.8916 - val_loss: 0.3464 - val_accuracy: 0.8737\n",
      "Epoch 23/50\n",
      "13/14 [==========================>...] - ETA: 0s - loss: 0.3018 - accuracy: 0.8933INFO:tensorflow:Assets written to: ../../models/chapter_13/fashion_mnist/assets\n"
     ]
    },
    {
     "name": "stderr",
     "output_type": "stream",
     "text": [
      "INFO:tensorflow:Assets written to: ../../models/chapter_13/fashion_mnist/assets\n"
     ]
    },
    {
     "name": "stdout",
     "output_type": "stream",
     "text": [
      "14/14 [==============================] - 1s 96ms/step - loss: 0.3018 - accuracy: 0.8933 - val_loss: 0.3325 - val_accuracy: 0.8820\n",
      "Epoch 24/50\n",
      "13/14 [==========================>...] - ETA: 0s - loss: 0.3065 - accuracy: 0.8903INFO:tensorflow:Assets written to: ../../models/chapter_13/fashion_mnist/assets\n"
     ]
    },
    {
     "name": "stderr",
     "output_type": "stream",
     "text": [
      "INFO:tensorflow:Assets written to: ../../models/chapter_13/fashion_mnist/assets\n"
     ]
    },
    {
     "name": "stdout",
     "output_type": "stream",
     "text": [
      "14/14 [==============================] - 1s 89ms/step - loss: 0.3060 - accuracy: 0.8905 - val_loss: 0.3371 - val_accuracy: 0.8783\n",
      "Epoch 25/50\n",
      "13/14 [==========================>...] - ETA: 0s - loss: 0.2993 - accuracy: 0.8936INFO:tensorflow:Assets written to: ../../models/chapter_13/fashion_mnist/assets\n"
     ]
    },
    {
     "name": "stderr",
     "output_type": "stream",
     "text": [
      "INFO:tensorflow:Assets written to: ../../models/chapter_13/fashion_mnist/assets\n"
     ]
    },
    {
     "name": "stdout",
     "output_type": "stream",
     "text": [
      "14/14 [==============================] - 1s 97ms/step - loss: 0.2997 - accuracy: 0.8935 - val_loss: 0.3656 - val_accuracy: 0.8690\n",
      "Epoch 26/50\n",
      "13/14 [==========================>...] - ETA: 0s - loss: 0.2932 - accuracy: 0.8960INFO:tensorflow:Assets written to: ../../models/chapter_13/fashion_mnist/assets\n"
     ]
    },
    {
     "name": "stderr",
     "output_type": "stream",
     "text": [
      "INFO:tensorflow:Assets written to: ../../models/chapter_13/fashion_mnist/assets\n"
     ]
    },
    {
     "name": "stdout",
     "output_type": "stream",
     "text": [
      "14/14 [==============================] - 1s 89ms/step - loss: 0.2931 - accuracy: 0.8962 - val_loss: 0.3361 - val_accuracy: 0.8798\n",
      "Epoch 27/50\n",
      "14/14 [==============================] - ETA: 0s - loss: 0.2856 - accuracy: 0.8988INFO:tensorflow:Assets written to: ../../models/chapter_13/fashion_mnist/assets\n"
     ]
    },
    {
     "name": "stderr",
     "output_type": "stream",
     "text": [
      "INFO:tensorflow:Assets written to: ../../models/chapter_13/fashion_mnist/assets\n"
     ]
    },
    {
     "name": "stdout",
     "output_type": "stream",
     "text": [
      "14/14 [==============================] - 1s 98ms/step - loss: 0.2856 - accuracy: 0.8988 - val_loss: 0.3389 - val_accuracy: 0.8798\n",
      "Epoch 28/50\n",
      "13/14 [==========================>...] - ETA: 0s - loss: 0.2850 - accuracy: 0.8977INFO:tensorflow:Assets written to: ../../models/chapter_13/fashion_mnist/assets\n"
     ]
    },
    {
     "name": "stderr",
     "output_type": "stream",
     "text": [
      "INFO:tensorflow:Assets written to: ../../models/chapter_13/fashion_mnist/assets\n"
     ]
    },
    {
     "name": "stdout",
     "output_type": "stream",
     "text": [
      "14/14 [==============================] - 1s 96ms/step - loss: 0.2853 - accuracy: 0.8978 - val_loss: 0.3363 - val_accuracy: 0.8807\n",
      "Epoch 29/50\n",
      "13/14 [==========================>...] - ETA: 0s - loss: 0.2825 - accuracy: 0.9001INFO:tensorflow:Assets written to: ../../models/chapter_13/fashion_mnist/assets\n"
     ]
    },
    {
     "name": "stderr",
     "output_type": "stream",
     "text": [
      "INFO:tensorflow:Assets written to: ../../models/chapter_13/fashion_mnist/assets\n"
     ]
    },
    {
     "name": "stdout",
     "output_type": "stream",
     "text": [
      "14/14 [==============================] - 1s 88ms/step - loss: 0.2827 - accuracy: 0.9002 - val_loss: 0.3319 - val_accuracy: 0.8795\n",
      "Epoch 30/50\n",
      "13/14 [==========================>...] - ETA: 0s - loss: 0.2810 - accuracy: 0.8991INFO:tensorflow:Assets written to: ../../models/chapter_13/fashion_mnist/assets\n"
     ]
    },
    {
     "name": "stderr",
     "output_type": "stream",
     "text": [
      "INFO:tensorflow:Assets written to: ../../models/chapter_13/fashion_mnist/assets\n"
     ]
    },
    {
     "name": "stdout",
     "output_type": "stream",
     "text": [
      "14/14 [==============================] - 1s 97ms/step - loss: 0.2808 - accuracy: 0.8993 - val_loss: 0.3216 - val_accuracy: 0.8830\n",
      "Epoch 31/50\n",
      "13/14 [==========================>...] - ETA: 0s - loss: 0.2732 - accuracy: 0.9019INFO:tensorflow:Assets written to: ../../models/chapter_13/fashion_mnist/assets\n"
     ]
    },
    {
     "name": "stderr",
     "output_type": "stream",
     "text": [
      "INFO:tensorflow:Assets written to: ../../models/chapter_13/fashion_mnist/assets\n"
     ]
    },
    {
     "name": "stdout",
     "output_type": "stream",
     "text": [
      "14/14 [==============================] - 1s 90ms/step - loss: 0.2731 - accuracy: 0.9020 - val_loss: 0.3399 - val_accuracy: 0.8770\n",
      "Epoch 32/50\n",
      "13/14 [==========================>...] - ETA: 0s - loss: 0.2799 - accuracy: 0.8996INFO:tensorflow:Assets written to: ../../models/chapter_13/fashion_mnist/assets\n"
     ]
    },
    {
     "name": "stderr",
     "output_type": "stream",
     "text": [
      "INFO:tensorflow:Assets written to: ../../models/chapter_13/fashion_mnist/assets\n"
     ]
    },
    {
     "name": "stdout",
     "output_type": "stream",
     "text": [
      "14/14 [==============================] - 1s 97ms/step - loss: 0.2799 - accuracy: 0.8998 - val_loss: 0.3169 - val_accuracy: 0.8885\n",
      "Epoch 33/50\n",
      "13/14 [==========================>...] - ETA: 0s - loss: 0.2651 - accuracy: 0.9066INFO:tensorflow:Assets written to: ../../models/chapter_13/fashion_mnist/assets\n"
     ]
    },
    {
     "name": "stderr",
     "output_type": "stream",
     "text": [
      "INFO:tensorflow:Assets written to: ../../models/chapter_13/fashion_mnist/assets\n"
     ]
    },
    {
     "name": "stdout",
     "output_type": "stream",
     "text": [
      "14/14 [==============================] - 1s 97ms/step - loss: 0.2649 - accuracy: 0.9066 - val_loss: 0.3323 - val_accuracy: 0.8788\n",
      "Epoch 34/50\n",
      "13/14 [==========================>...] - ETA: 0s - loss: 0.2657 - accuracy: 0.9056INFO:tensorflow:Assets written to: ../../models/chapter_13/fashion_mnist/assets\n"
     ]
    },
    {
     "name": "stderr",
     "output_type": "stream",
     "text": [
      "INFO:tensorflow:Assets written to: ../../models/chapter_13/fashion_mnist/assets\n"
     ]
    },
    {
     "name": "stdout",
     "output_type": "stream",
     "text": [
      "14/14 [==============================] - 1s 88ms/step - loss: 0.2655 - accuracy: 0.9057 - val_loss: 0.3230 - val_accuracy: 0.8833\n",
      "Epoch 35/50\n",
      "13/14 [==========================>...] - ETA: 0s - loss: 0.2772 - accuracy: 0.8999INFO:tensorflow:Assets written to: ../../models/chapter_13/fashion_mnist/assets\n"
     ]
    },
    {
     "name": "stderr",
     "output_type": "stream",
     "text": [
      "INFO:tensorflow:Assets written to: ../../models/chapter_13/fashion_mnist/assets\n"
     ]
    },
    {
     "name": "stdout",
     "output_type": "stream",
     "text": [
      "14/14 [==============================] - 1s 100ms/step - loss: 0.2768 - accuracy: 0.8998 - val_loss: 0.3208 - val_accuracy: 0.8845\n",
      "Epoch 36/50\n",
      "13/14 [==========================>...] - ETA: 0s - loss: 0.2613 - accuracy: 0.9074INFO:tensorflow:Assets written to: ../../models/chapter_13/fashion_mnist/assets\n"
     ]
    },
    {
     "name": "stderr",
     "output_type": "stream",
     "text": [
      "INFO:tensorflow:Assets written to: ../../models/chapter_13/fashion_mnist/assets\n"
     ]
    },
    {
     "name": "stdout",
     "output_type": "stream",
     "text": [
      "14/14 [==============================] - 1s 92ms/step - loss: 0.2611 - accuracy: 0.9073 - val_loss: 0.3330 - val_accuracy: 0.8788\n",
      "Epoch 37/50\n",
      "13/14 [==========================>...] - ETA: 0s - loss: 0.2588 - accuracy: 0.9076INFO:tensorflow:Assets written to: ../../models/chapter_13/fashion_mnist/assets\n"
     ]
    },
    {
     "name": "stderr",
     "output_type": "stream",
     "text": [
      "INFO:tensorflow:Assets written to: ../../models/chapter_13/fashion_mnist/assets\n"
     ]
    },
    {
     "name": "stdout",
     "output_type": "stream",
     "text": [
      "14/14 [==============================] - 1s 103ms/step - loss: 0.2590 - accuracy: 0.9075 - val_loss: 0.3212 - val_accuracy: 0.8840\n",
      "Epoch 38/50\n",
      "13/14 [==========================>...] - ETA: 0s - loss: 0.2519 - accuracy: 0.9111INFO:tensorflow:Assets written to: ../../models/chapter_13/fashion_mnist/assets\n"
     ]
    },
    {
     "name": "stderr",
     "output_type": "stream",
     "text": [
      "INFO:tensorflow:Assets written to: ../../models/chapter_13/fashion_mnist/assets\n"
     ]
    },
    {
     "name": "stdout",
     "output_type": "stream",
     "text": [
      "14/14 [==============================] - 1s 104ms/step - loss: 0.2515 - accuracy: 0.9112 - val_loss: 0.3413 - val_accuracy: 0.8762\n",
      "Epoch 39/50\n",
      "14/14 [==============================] - ETA: 0s - loss: 0.2695 - accuracy: 0.9021INFO:tensorflow:Assets written to: ../../models/chapter_13/fashion_mnist/assets\n"
     ]
    },
    {
     "name": "stderr",
     "output_type": "stream",
     "text": [
      "INFO:tensorflow:Assets written to: ../../models/chapter_13/fashion_mnist/assets\n"
     ]
    },
    {
     "name": "stdout",
     "output_type": "stream",
     "text": [
      "14/14 [==============================] - 1s 94ms/step - loss: 0.2695 - accuracy: 0.9021 - val_loss: 0.3236 - val_accuracy: 0.8850\n",
      "Epoch 40/50\n",
      "13/14 [==========================>...] - ETA: 0s - loss: 0.2515 - accuracy: 0.9104INFO:tensorflow:Assets written to: ../../models/chapter_13/fashion_mnist/assets\n"
     ]
    },
    {
     "name": "stderr",
     "output_type": "stream",
     "text": [
      "INFO:tensorflow:Assets written to: ../../models/chapter_13/fashion_mnist/assets\n"
     ]
    },
    {
     "name": "stdout",
     "output_type": "stream",
     "text": [
      "14/14 [==============================] - 1s 98ms/step - loss: 0.2517 - accuracy: 0.9101 - val_loss: 0.3428 - val_accuracy: 0.8768\n",
      "Epoch 41/50\n",
      "13/14 [==========================>...] - ETA: 0s - loss: 0.2513 - accuracy: 0.9105INFO:tensorflow:Assets written to: ../../models/chapter_13/fashion_mnist/assets\n"
     ]
    },
    {
     "name": "stderr",
     "output_type": "stream",
     "text": [
      "INFO:tensorflow:Assets written to: ../../models/chapter_13/fashion_mnist/assets\n"
     ]
    },
    {
     "name": "stdout",
     "output_type": "stream",
     "text": [
      "14/14 [==============================] - 1s 87ms/step - loss: 0.2513 - accuracy: 0.9105 - val_loss: 0.3161 - val_accuracy: 0.8842\n",
      "Epoch 42/50\n",
      "13/14 [==========================>...] - ETA: 0s - loss: 0.2420 - accuracy: 0.9146INFO:tensorflow:Assets written to: ../../models/chapter_13/fashion_mnist/assets\n"
     ]
    },
    {
     "name": "stderr",
     "output_type": "stream",
     "text": [
      "INFO:tensorflow:Assets written to: ../../models/chapter_13/fashion_mnist/assets\n"
     ]
    },
    {
     "name": "stdout",
     "output_type": "stream",
     "text": [
      "14/14 [==============================] - 1s 97ms/step - loss: 0.2417 - accuracy: 0.9147 - val_loss: 0.3436 - val_accuracy: 0.8733\n",
      "Epoch 43/50\n",
      "13/14 [==========================>...] - ETA: 0s - loss: 0.2512 - accuracy: 0.9109INFO:tensorflow:Assets written to: ../../models/chapter_13/fashion_mnist/assets\n"
     ]
    },
    {
     "name": "stderr",
     "output_type": "stream",
     "text": [
      "INFO:tensorflow:Assets written to: ../../models/chapter_13/fashion_mnist/assets\n"
     ]
    },
    {
     "name": "stdout",
     "output_type": "stream",
     "text": [
      "14/14 [==============================] - 1s 96ms/step - loss: 0.2510 - accuracy: 0.9112 - val_loss: 0.3437 - val_accuracy: 0.8767\n",
      "Epoch 44/50\n",
      "13/14 [==========================>...] - ETA: 0s - loss: 0.2430 - accuracy: 0.9134INFO:tensorflow:Assets written to: ../../models/chapter_13/fashion_mnist/assets\n"
     ]
    },
    {
     "name": "stderr",
     "output_type": "stream",
     "text": [
      "INFO:tensorflow:Assets written to: ../../models/chapter_13/fashion_mnist/assets\n"
     ]
    },
    {
     "name": "stdout",
     "output_type": "stream",
     "text": [
      "14/14 [==============================] - 1s 88ms/step - loss: 0.2431 - accuracy: 0.9132 - val_loss: 0.3107 - val_accuracy: 0.8900\n",
      "Epoch 45/50\n",
      "13/14 [==========================>...] - ETA: 0s - loss: 0.2369 - accuracy: 0.9161INFO:tensorflow:Assets written to: ../../models/chapter_13/fashion_mnist/assets\n"
     ]
    },
    {
     "name": "stderr",
     "output_type": "stream",
     "text": [
      "INFO:tensorflow:Assets written to: ../../models/chapter_13/fashion_mnist/assets\n"
     ]
    },
    {
     "name": "stdout",
     "output_type": "stream",
     "text": [
      "14/14 [==============================] - 1s 96ms/step - loss: 0.2368 - accuracy: 0.9161 - val_loss: 0.3253 - val_accuracy: 0.8783\n",
      "Epoch 46/50\n",
      "13/14 [==========================>...] - ETA: 0s - loss: 0.2357 - accuracy: 0.9160INFO:tensorflow:Assets written to: ../../models/chapter_13/fashion_mnist/assets\n"
     ]
    },
    {
     "name": "stderr",
     "output_type": "stream",
     "text": [
      "INFO:tensorflow:Assets written to: ../../models/chapter_13/fashion_mnist/assets\n"
     ]
    },
    {
     "name": "stdout",
     "output_type": "stream",
     "text": [
      "14/14 [==============================] - 1s 88ms/step - loss: 0.2358 - accuracy: 0.9159 - val_loss: 0.3291 - val_accuracy: 0.8788\n",
      "Epoch 47/50\n",
      "13/14 [==========================>...] - ETA: 0s - loss: 0.2363 - accuracy: 0.9157INFO:tensorflow:Assets written to: ../../models/chapter_13/fashion_mnist/assets\n"
     ]
    },
    {
     "name": "stderr",
     "output_type": "stream",
     "text": [
      "INFO:tensorflow:Assets written to: ../../models/chapter_13/fashion_mnist/assets\n"
     ]
    },
    {
     "name": "stdout",
     "output_type": "stream",
     "text": [
      "14/14 [==============================] - 1s 96ms/step - loss: 0.2363 - accuracy: 0.9158 - val_loss: 0.3093 - val_accuracy: 0.8905\n",
      "Epoch 48/50\n",
      "13/14 [==========================>...] - ETA: 0s - loss: 0.2298 - accuracy: 0.9190INFO:tensorflow:Assets written to: ../../models/chapter_13/fashion_mnist/assets\n"
     ]
    },
    {
     "name": "stderr",
     "output_type": "stream",
     "text": [
      "INFO:tensorflow:Assets written to: ../../models/chapter_13/fashion_mnist/assets\n"
     ]
    },
    {
     "name": "stdout",
     "output_type": "stream",
     "text": [
      "14/14 [==============================] - 1s 87ms/step - loss: 0.2297 - accuracy: 0.9189 - val_loss: 0.3051 - val_accuracy: 0.8912\n",
      "Epoch 49/50\n",
      "13/14 [==========================>...] - ETA: 0s - loss: 0.2297 - accuracy: 0.9187INFO:tensorflow:Assets written to: ../../models/chapter_13/fashion_mnist/assets\n"
     ]
    },
    {
     "name": "stderr",
     "output_type": "stream",
     "text": [
      "INFO:tensorflow:Assets written to: ../../models/chapter_13/fashion_mnist/assets\n"
     ]
    },
    {
     "name": "stdout",
     "output_type": "stream",
     "text": [
      "14/14 [==============================] - 1s 96ms/step - loss: 0.2298 - accuracy: 0.9187 - val_loss: 0.3322 - val_accuracy: 0.8787\n",
      "Epoch 50/50\n",
      "13/14 [==========================>...] - ETA: 0s - loss: 0.2316 - accuracy: 0.9177INFO:tensorflow:Assets written to: ../../models/chapter_13/fashion_mnist/assets\n"
     ]
    },
    {
     "name": "stderr",
     "output_type": "stream",
     "text": [
      "INFO:tensorflow:Assets written to: ../../models/chapter_13/fashion_mnist/assets\n"
     ]
    },
    {
     "name": "stdout",
     "output_type": "stream",
     "text": [
      "14/14 [==============================] - 1s 96ms/step - loss: 0.2319 - accuracy: 0.9176 - val_loss: 0.3211 - val_accuracy: 0.8822\n"
     ]
    },
    {
     "data": {
      "text/plain": [
       "<keras.callbacks.History at 0x2bf4214e0>"
      ]
     },
     "execution_count": 10,
     "metadata": {},
     "output_type": "execute_result"
    }
   ],
   "source": [
    "tf.random.set_seed(1992)\n",
    "tf.keras.backend.clear_session()\n",
    "\n",
    "# Normalization of the data\n",
    "sample_images = train_set.take(250).map(lambda image, label: image)\n",
    "normalizer = layers.Normalization(input_shape=[28, 28])\n",
    "normalizer.adapt(sample_images)\n",
    "\n",
    "# Callbacks\n",
    "tensorboard_cb = callbacks.TensorBoard(\n",
    "    log_dir=get_log_dir(), profile_batch=10, histogram_freq=1\n",
    ")\n",
    "model_checkpoint_cb = callbacks.ModelCheckpoint(filepath=os.path.join(SAVE_MODEL_PATH, \"fashion_mnist\"))\n",
    "\n",
    "model = Sequential(\n",
    "    [\n",
    "        normalizer,\n",
    "        layers.Flatten(),\n",
    "        layers.Dense(100, activation=\"relu\"),\n",
    "        layers.Dense(10, activation=\"softmax\"),\n",
    "    ]\n",
    ")\n",
    "model.compile(\n",
    "    loss=\"sparse_categorical_crossentropy\", metrics=[\"accuracy\"], optimizer=\"nadam\"\n",
    ")\n",
    "\n",
    "model.fit(train_set, epochs=50, validation_data=valid_set, callbacks=[tensorboard_cb, model_checkpoint_cb])\n"
   ]
  },
  {
   "cell_type": "markdown",
   "metadata": {},
   "source": [
    "#### 10. In this exercise you will download a dataset, split it, create a tf.data.Dataset to load it and preprocess it efficiently, then build and train a binary classification model containing an Embedding layer:"
   ]
  },
  {
   "cell_type": "markdown",
   "metadata": {},
   "source": [
    "#### - Download the Large Movie Review Dataset, which contains 50,000 movie reviews from the Internet Movie Database (IMDb). The data is organized in two directories, train and test, each containing a pos subdirectory with 12,500 positive reviews and a neg subdirectory with 12,500 negative reviews. Each review is stored in a separate text file. There are other files and folders (including preprocessed bag-of-words versions), but we will ignore them in this exercise."
   ]
  },
  {
   "cell_type": "markdown",
   "metadata": {},
   "source": [
    "#### - Split the test set into a validation set (15,000) and a test set (10,000)."
   ]
  },
  {
   "cell_type": "code",
   "execution_count": 11,
   "metadata": {},
   "outputs": [],
   "source": [
    "train_set, valid_set, test_set = tfds.load(\n",
    "    name=\"imdb_reviews\",\n",
    "    data_dir=IMDB_PATH,\n",
    "    split=[\"train\", \"test[:15000]\", \"test[15000:]\"],\n",
    "    as_supervised=True,\n",
    ")"
   ]
  },
  {
   "cell_type": "code",
   "execution_count": 12,
   "metadata": {},
   "outputs": [
    {
     "name": "stdout",
     "output_type": "stream",
     "text": [
      "tf.Tensor(b\"This was an absolutely terrible movie. Don't be lured in by Christopher Walken or Michael Ironside. Both are great actors, but this must simply be their worst role in history. Even their great acting could not redeem this movie's ridiculous storyline. This movie is an early nineties US propaganda piece. The most pathetic scenes were those when the Columbian rebels were making their cases for revolutions. Maria Conchita Alonso appeared phony, and her pseudo-love affair with Walken was nothing but a pathetic emotional plug in a movie that was devoid of any real meaning. I am disappointed that there are movies like this, ruining actor's like Christopher Walken's good name. I could barely sit through it.\", shape=(), dtype=string)\n"
     ]
    }
   ],
   "source": [
    "for text in train_set.take(1):\n",
    "    print(text[0])"
   ]
  },
  {
   "cell_type": "markdown",
   "metadata": {},
   "source": [
    "#### - Use tf.data to create an efficient dataset for each set."
   ]
  },
  {
   "cell_type": "code",
   "execution_count": 13,
   "metadata": {},
   "outputs": [],
   "source": [
    "train_set = train_set.cache()\n",
    "valid_set = valid_set.cache()\n",
    "test_set = test_set.cache()\n",
    "\n",
    "train_set = train_set.shuffle(SHUFFLE_BUFFER).batch(32).prefetch(AUTOTUNE)\n",
    "valid_set = valid_set.batch(32).prefetch(AUTOTUNE)\n",
    "test_set = test_set.batch(32).prefetch(AUTOTUNE)"
   ]
  },
  {
   "cell_type": "markdown",
   "metadata": {},
   "source": [
    "#### - Create a binary classification model, using a TextVectorization layer to preprocess each review."
   ]
  },
  {
   "cell_type": "code",
   "execution_count": 14,
   "metadata": {},
   "outputs": [],
   "source": [
    "def train_model(train_set, valid_set, test_set, epochs=100):\n",
    "    \"\"\"This function trains a model with the data feeded.\n",
    "    The function saves the model in a separate folder.\n",
    "\n",
    "    Args:\n",
    "        train_set (tf.data.Dataset): Dataset containing the training records\n",
    "        valid_set (tf.data.Dataset): Dataset containing the values for validation\n",
    "        test_set (tf.data.Dataset): Dataset containing the values to evaluate the model\n",
    "        epochs (int, optional): Max number of epochs the model will be trained. Defaults to 100.\n",
    "\n",
    "    Returns:\n",
    "        model(tf.keras.Model): Model trained\n",
    "    \"\"\"\n",
    "    keras.backend.clear_session()\n",
    "    tf.random.set_seed(1992)\n",
    "\n",
    "    max_tokens = 5000\n",
    "    sample_text = train_set.map(lambda review, label: review)\n",
    "    vectorizer = layers.TextVectorization(max_tokens=max_tokens, output_mode=\"tf_idf\")\n",
    "    vectorizer.adapt(sample_text)\n",
    "\n",
    "    model = Sequential(\n",
    "        layers=[\n",
    "            vectorizer,\n",
    "            layers.Dense(\n",
    "                100,\n",
    "                kernel_initializer=\"he_normal\",\n",
    "                activation=\"elu\",\n",
    "            ),\n",
    "            layers.Dense(\n",
    "                100,\n",
    "                kernel_initializer=\"he_normal\",\n",
    "                activation=\"elu\",\n",
    "            ),\n",
    "            layers.Dense(1, activation=\"sigmoid\"),\n",
    "        ],\n",
    "        name=\"imdb_model\",\n",
    "    )\n",
    "\n",
    "    # Compile the model\n",
    "    loss = losses.binary_crossentropy\n",
    "    optimizer = optimizers.Nadam()\n",
    "    metric = metrics.accuracy\n",
    "\n",
    "    model.compile(loss=loss, optimizer=optimizer, metrics=[metric])\n",
    "\n",
    "    # Callbacks\n",
    "    tensorboard_cb = callbacks.TensorBoard(log_dir=get_log_dir(), profile_batch=5)\n",
    "    early_stopping_cb = callbacks.EarlyStopping(patience=5)\n",
    "    model_checkpoint_cb = callbacks.ModelCheckpoint(\n",
    "        filepath=os.path.join(SAVE_MODEL_PATH, \"imdb_model\"), save_best_only=True\n",
    "    )\n",
    "    callbacks_list = [tensorboard_cb, early_stopping_cb, model_checkpoint_cb]\n",
    "\n",
    "    model.fit(\n",
    "        train_set,\n",
    "        validation_data=valid_set,\n",
    "        epochs=epochs,\n",
    "        callbacks=callbacks_list,\n",
    "        verbose=0,\n",
    "    )\n",
    "\n",
    "    evaluation = model.evaluate(test_set, verbose=0)\n",
    "\n",
    "    print(f\"The model {model.name} has successfully been trained.\")\n",
    "    print(\n",
    "        f\"The training metrics are: \\n\\tAccuracy: {(evaluation[0]) * 100:.2f}\\n\\tLoss: {evaluation[1]:.2f}\"\n",
    "    )\n",
    "    return model\n"
   ]
  },
  {
   "cell_type": "code",
   "execution_count": 15,
   "metadata": {},
   "outputs": [
    {
     "name": "stdout",
     "output_type": "stream",
     "text": [
      "INFO:tensorflow:Assets written to: ../../models/chapter_13/imdb_model/assets\n"
     ]
    },
    {
     "name": "stderr",
     "output_type": "stream",
     "text": [
      "INFO:tensorflow:Assets written to: ../../models/chapter_13/imdb_model/assets\n"
     ]
    },
    {
     "name": "stdout",
     "output_type": "stream",
     "text": [
      "The model imdb_model has successfully been trained.\n",
      "The training metrics are: \n",
      "\tAccuracy: 87.62\n",
      "\tLoss: 0.15\n"
     ]
    }
   ],
   "source": [
    "imdb_model = train_model(train_set, valid_set, test_set)"
   ]
  },
  {
   "cell_type": "markdown",
   "metadata": {},
   "source": [
    "#### - Add an Embedding layer and compute the mean embedding for each review, multiplied by the square root of the number of words (see Chapter 16). This rescaled mean embedding can then be passed to the rest of your model."
   ]
  },
  {
   "cell_type": "markdown",
   "metadata": {},
   "source": [
    "#### - Train the model and see what accuracy you get. Try to optimize your pipelines to make training as fast as possible."
   ]
  },
  {
   "cell_type": "markdown",
   "metadata": {},
   "source": [
    "#### - Use TFDS to load the same dataset more easily: tfds.load(\"imdb_reviews\")."
   ]
  }
 ],
 "metadata": {
  "kernelspec": {
   "display_name": "Python 3.10.8 ('.venv': poetry)",
   "language": "python",
   "name": "python3"
  },
  "language_info": {
   "codemirror_mode": {
    "name": "ipython",
    "version": 3
   },
   "file_extension": ".py",
   "mimetype": "text/x-python",
   "name": "python",
   "nbconvert_exporter": "python",
   "pygments_lexer": "ipython3",
   "version": "3.10.8"
  },
  "orig_nbformat": 4,
  "vscode": {
   "interpreter": {
    "hash": "b20fb8559386147dc77cba9f7518a8c175fc982b8c10bebe842520e16b3ac5d9"
   }
  }
 },
 "nbformat": 4,
 "nbformat_minor": 2
}
