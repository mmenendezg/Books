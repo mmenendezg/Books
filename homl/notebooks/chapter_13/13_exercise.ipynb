{
 "cells": [
  {
   "cell_type": "markdown",
   "metadata": {},
   "source": [
    "# 13. Loading and Preprocessing Data with TensorFlow"
   ]
  },
  {
   "cell_type": "markdown",
   "metadata": {},
   "source": [
    "#### Setup"
   ]
  },
  {
   "cell_type": "code",
   "execution_count": 1,
   "metadata": {},
   "outputs": [],
   "source": [
    "import os\n",
    "from contextlib import ExitStack\n",
    "from datetime import datetime\n",
    "\n",
    "import matplotlib.pyplot as plt\n",
    "import numpy as np\n",
    "\n",
    "import tensorflow as tf\n",
    "from tensorflow import keras, data\n",
    "from keras import (\n",
    "    callbacks,\n",
    "    layers,\n",
    "    Sequential,\n",
    "    optimizers,\n",
    ")\n",
    "from tensorflow.train import Example, Feature, Features, BytesList, Int64List, FloatList\n",
    "import tensorflow_datasets as tfds\n",
    "import tensorflow_hub as hub\n"
   ]
  },
  {
   "cell_type": "code",
   "execution_count": 2,
   "metadata": {},
   "outputs": [],
   "source": [
    "DATASET_PATH = os.path.join('/', 'Users', 'mmenendezg', 'Developer', 'Datasets', 'fashion_mnist')\n",
    "SHUFFLE_BUFFER = 60000\n",
    "AUTOTUNE = tf.data.AUTOTUNE\n",
    "BATCH_SIZE = 4096\n",
    "\n",
    "os.makedirs(DATASET_PATH, exist_ok=True)"
   ]
  },
  {
   "cell_type": "code",
   "execution_count": 3,
   "metadata": {},
   "outputs": [],
   "source": [
    "def get_log_dir():\n",
    "    datetime_dir = datetime.now().strftime(\"%Y%m%d_%H%M\")\n",
    "    log_dir = os.path.join('..', \"..\", \"reports\", \"logs\", datetime_dir)\n",
    "    return log_dir"
   ]
  },
  {
   "cell_type": "markdown",
   "metadata": {},
   "source": [
    "#### 9. Load the Fashion MNIST dataset (introduced in Chapter 10); split it into a training set, a validation set, and a test set; shuffle the training set; and save each dataset to multiple TFRecord files. Each record should be a serialized Example protobuf with two features: the serialized image (use tf.io.serialize_tensor() to serialize each image), and the label.⁠ Then use tf.data to create an efficient dataset for each set. Finally, use a Keras model to train these datasets, including a preprocessing layer to standardize each input feature. Try to make the input pipeline as efficient as possible, using TensorBoard to visualize profiling data."
   ]
  },
  {
   "cell_type": "code",
   "execution_count": 4,
   "metadata": {},
   "outputs": [
    {
     "name": "stdout",
     "output_type": "stream",
     "text": [
      "Metal device set to: Apple M1 Pro\n",
      "\n",
      "systemMemory: 32.00 GB\n",
      "maxCacheSize: 10.67 GB\n",
      "\n"
     ]
    }
   ],
   "source": [
    "tf.random.set_seed(1992)\n",
    "\n",
    "train_set, valid_set, test_set = tfds.load(\n",
    "    name=\"fashion_mnist\",\n",
    "    data_dir=DATASET_PATH,\n",
    "    split=[\"train[:90%]\", \"train[90%:]\", \"test\"],\n",
    "    as_supervised=True\n",
    ")"
   ]
  },
  {
   "cell_type": "code",
   "execution_count": 5,
   "metadata": {},
   "outputs": [],
   "source": [
    "def create_example(image, label):\n",
    "    \"\"\"This function creates an example protobufs using the image \n",
    "    and label of the `fashion_mnist` dataset\n",
    "\n",
    "    Args:\n",
    "        image (tf.Tensor): Array containing the values of the image\n",
    "        label (int): Value of the class of the image\n",
    "\n",
    "    Returns:\n",
    "        binary protobuf: Protobuf containing the image and the label \n",
    "    \"\"\"\n",
    "    image_data = tf.io.serialize_tensor(image)\n",
    "    label_data = tf.io.serialize_tensor(label)\n",
    "    feature = {\n",
    "        \"image\": Feature(bytes_list=BytesList(value=[image_data.numpy()])),\n",
    "        \"label\": Feature(int64_list=Int64List(value=[label.numpy()])),\n",
    "    }\n",
    "    \n",
    "    return Example(\n",
    "        features=Features(\n",
    "            feature=feature\n",
    "        )\n",
    "    )\n",
    "\n",
    "\n",
    "def save_protobufs(dataset, set_type=\"train\", n_shards=10):\n",
    "    \"\"\"This function divides the set into multiple mini sets,\n",
    "    and saves the images as protobufs in several files\n",
    "\n",
    "    Args:\n",
    "        set (tf.data.Dataset): set of tuples (images, target) of the fashion_mnist dataset\n",
    "    \"\"\"\n",
    "    if set_type == \"train\":\n",
    "        dataset.shuffle(SHUFFLE_BUFFER)\n",
    "    files = [\n",
    "        f\"{set_type}.tfrecord-{shard:05d}-of-{n_shards:05d}\"\n",
    "        for shard in range(n_shards)\n",
    "    ]\n",
    "    file_paths = [os.path.join(DATASET_PATH, file_path) for file_path in files]\n",
    "    with ExitStack() as stack:\n",
    "        writers = [stack.enter_context(tf.io.TFRecordWriter(file)) for file in file_paths]\n",
    "        for index, (image, label) in dataset.enumerate():\n",
    "            shard = index % n_shards\n",
    "            example = create_example(image, label)\n",
    "            writers[shard].write(example.SerializeToString())\n",
    "    return file_paths"
   ]
  },
  {
   "cell_type": "code",
   "execution_count": 6,
   "metadata": {},
   "outputs": [],
   "source": [
    "train_files = save_protobufs(train_set, 'train')\n",
    "valid_files = save_protobufs(valid_set, 'valid')\n",
    "test_files = save_protobufs(test_set, 'test')"
   ]
  },
  {
   "cell_type": "code",
   "execution_count": 7,
   "metadata": {},
   "outputs": [],
   "source": [
    "def get_record(tfrecord):\n",
    "    feature_descriptions = {\n",
    "        \"image\": tf.io.FixedLenFeature([], tf.string, default_value=\"\"),\n",
    "        \"label\": tf.io.FixedLenFeature([], tf.int64, default_value=-1),\n",
    "    }\n",
    "    example = tf.io.parse_single_example(tfrecord, feature_descriptions)\n",
    "    image = tf.io.parse_tensor(example[\"image\"], out_type=tf.uint8)\n",
    "    image = tf.reshape(image, shape=[28, 28])\n",
    "    return image, example[\"label\"]\n",
    "\n",
    "\n",
    "def mnist_dataset(file_paths, cache=True, shuffle_buffer_size=None):\n",
    "\n",
    "    dataset = tf.data.TFRecordDataset(file_paths, num_parallel_reads=AUTOTUNE)\n",
    "\n",
    "    if cache:\n",
    "        dataset = dataset.cache()\n",
    "    if shuffle_buffer_size:\n",
    "        dataset = dataset.shuffle(shuffle_buffer_size)\n",
    "    dataset = (\n",
    "        dataset.map(get_record, num_parallel_calls=AUTOTUNE)\n",
    "        .batch(BATCH_SIZE)\n",
    "        .prefetch(AUTOTUNE)\n",
    "    )\n",
    "    return dataset\n"
   ]
  },
  {
   "cell_type": "code",
   "execution_count": 8,
   "metadata": {},
   "outputs": [],
   "source": [
    "train_set = mnist_dataset(train_files, shuffle_buffer_size=SHUFFLE_BUFFER)\n",
    "valid_set = mnist_dataset(valid_files)\n",
    "test_set = mnist_dataset(test_files)"
   ]
  },
  {
   "cell_type": "code",
   "execution_count": 9,
   "metadata": {},
   "outputs": [
    {
     "data": {
      "image/png": "[encoded data removed]",
      "text/plain": [
       "<Figure size 640x480 with 5 Axes>"
      ]
     },
     "metadata": {},
     "output_type": "display_data"
    }
   ],
   "source": [
    "for x, y in train_set.take(1):\n",
    "    for i in range(5):\n",
    "        plt.subplot(1, 5, i + 1)\n",
    "        plt.imshow(x[i].numpy(), cmap=\"binary\")\n",
    "        plt.axis(\"off\")\n",
    "        plt.title(str(y[i].numpy()))"
   ]
  },
  {
   "cell_type": "code",
   "execution_count": 10,
   "metadata": {},
   "outputs": [
    {
     "name": "stdout",
     "output_type": "stream",
     "text": [
      "Epoch 1/50\n",
      "14/14 [==============================] - 1s 70ms/step - loss: 1.3607 - accuracy: 0.5495 - val_loss: 0.7148 - val_accuracy: 0.7525\n",
      "Epoch 2/50\n",
      "14/14 [==============================] - 1s 61ms/step - loss: 0.6364 - accuracy: 0.7777 - val_loss: 0.5667 - val_accuracy: 0.8005\n",
      "Epoch 3/50\n",
      "14/14 [==============================] - 1s 60ms/step - loss: 0.5246 - accuracy: 0.8164 - val_loss: 0.4895 - val_accuracy: 0.8243\n",
      "Epoch 4/50\n",
      "14/14 [==============================] - 1s 61ms/step - loss: 0.4756 - accuracy: 0.8304 - val_loss: 0.4767 - val_accuracy: 0.8255\n",
      "Epoch 5/50\n",
      "14/14 [==============================] - 1s 58ms/step - loss: 0.4481 - accuracy: 0.8404 - val_loss: 0.4319 - val_accuracy: 0.8435\n",
      "Epoch 6/50\n",
      "14/14 [==============================] - 1s 61ms/step - loss: 0.4242 - accuracy: 0.8496 - val_loss: 0.4469 - val_accuracy: 0.8388\n",
      "Epoch 7/50\n",
      "14/14 [==============================] - 1s 59ms/step - loss: 0.4101 - accuracy: 0.8542 - val_loss: 0.4021 - val_accuracy: 0.8563\n",
      "Epoch 8/50\n",
      "14/14 [==============================] - 1s 58ms/step - loss: 0.3967 - accuracy: 0.8593 - val_loss: 0.3884 - val_accuracy: 0.8598\n",
      "Epoch 9/50\n",
      "14/14 [==============================] - 1s 58ms/step - loss: 0.3844 - accuracy: 0.8639 - val_loss: 0.4009 - val_accuracy: 0.8528\n",
      "Epoch 10/50\n",
      "14/14 [==============================] - 1s 60ms/step - loss: 0.3790 - accuracy: 0.8651 - val_loss: 0.3792 - val_accuracy: 0.8628\n",
      "Epoch 11/50\n",
      "14/14 [==============================] - 1s 61ms/step - loss: 0.3592 - accuracy: 0.8729 - val_loss: 0.3714 - val_accuracy: 0.8635\n",
      "Epoch 12/50\n",
      "14/14 [==============================] - 1s 63ms/step - loss: 0.3584 - accuracy: 0.8719 - val_loss: 0.3731 - val_accuracy: 0.8623\n",
      "Epoch 13/50\n",
      "14/14 [==============================] - 1s 60ms/step - loss: 0.3536 - accuracy: 0.8747 - val_loss: 0.3963 - val_accuracy: 0.8535\n",
      "Epoch 14/50\n",
      "14/14 [==============================] - 1s 60ms/step - loss: 0.3527 - accuracy: 0.8731 - val_loss: 0.3581 - val_accuracy: 0.8710\n",
      "Epoch 15/50\n",
      "14/14 [==============================] - 1s 59ms/step - loss: 0.3373 - accuracy: 0.8801 - val_loss: 0.3559 - val_accuracy: 0.8665\n",
      "Epoch 16/50\n",
      "14/14 [==============================] - 1s 58ms/step - loss: 0.3340 - accuracy: 0.8808 - val_loss: 0.3691 - val_accuracy: 0.8638\n",
      "Epoch 17/50\n",
      "14/14 [==============================] - 1s 57ms/step - loss: 0.3292 - accuracy: 0.8832 - val_loss: 0.3562 - val_accuracy: 0.8698\n",
      "Epoch 18/50\n",
      "14/14 [==============================] - 1s 58ms/step - loss: 0.3205 - accuracy: 0.8859 - val_loss: 0.3483 - val_accuracy: 0.8727\n",
      "Epoch 19/50\n",
      "14/14 [==============================] - 1s 58ms/step - loss: 0.3127 - accuracy: 0.8895 - val_loss: 0.3462 - val_accuracy: 0.8738\n",
      "Epoch 20/50\n",
      "14/14 [==============================] - 1s 58ms/step - loss: 0.3113 - accuracy: 0.8903 - val_loss: 0.3483 - val_accuracy: 0.8727\n",
      "Epoch 21/50\n",
      "14/14 [==============================] - 1s 58ms/step - loss: 0.3114 - accuracy: 0.8886 - val_loss: 0.3501 - val_accuracy: 0.8728\n",
      "Epoch 22/50\n",
      "14/14 [==============================] - 1s 59ms/step - loss: 0.3095 - accuracy: 0.8891 - val_loss: 0.3407 - val_accuracy: 0.8767\n",
      "Epoch 23/50\n",
      "14/14 [==============================] - 1s 59ms/step - loss: 0.2974 - accuracy: 0.8946 - val_loss: 0.3362 - val_accuracy: 0.8767\n",
      "Epoch 24/50\n",
      "14/14 [==============================] - 1s 59ms/step - loss: 0.2987 - accuracy: 0.8926 - val_loss: 0.3319 - val_accuracy: 0.8798\n",
      "Epoch 25/50\n",
      "14/14 [==============================] - 1s 60ms/step - loss: 0.2884 - accuracy: 0.8971 - val_loss: 0.3262 - val_accuracy: 0.8808\n",
      "Epoch 26/50\n",
      "14/14 [==============================] - 1s 62ms/step - loss: 0.2885 - accuracy: 0.8975 - val_loss: 0.3456 - val_accuracy: 0.8748\n",
      "Epoch 27/50\n",
      "14/14 [==============================] - 1s 64ms/step - loss: 0.2861 - accuracy: 0.8981 - val_loss: 0.3419 - val_accuracy: 0.8742\n",
      "Epoch 28/50\n",
      "14/14 [==============================] - 1s 61ms/step - loss: 0.2783 - accuracy: 0.9008 - val_loss: 0.3302 - val_accuracy: 0.8812\n",
      "Epoch 29/50\n",
      "14/14 [==============================] - 1s 59ms/step - loss: 0.2829 - accuracy: 0.8984 - val_loss: 0.3136 - val_accuracy: 0.8852\n",
      "Epoch 30/50\n",
      "14/14 [==============================] - 1s 59ms/step - loss: 0.2757 - accuracy: 0.9019 - val_loss: 0.3150 - val_accuracy: 0.8885\n",
      "Epoch 31/50\n",
      "14/14 [==============================] - 1s 58ms/step - loss: 0.2742 - accuracy: 0.9023 - val_loss: 0.3154 - val_accuracy: 0.8842\n",
      "Epoch 32/50\n",
      "14/14 [==============================] - 1s 59ms/step - loss: 0.2681 - accuracy: 0.9046 - val_loss: 0.3230 - val_accuracy: 0.8793\n",
      "Epoch 33/50\n",
      "14/14 [==============================] - 1s 58ms/step - loss: 0.2719 - accuracy: 0.9035 - val_loss: 0.3130 - val_accuracy: 0.8855\n",
      "Epoch 34/50\n",
      "14/14 [==============================] - 1s 59ms/step - loss: 0.2596 - accuracy: 0.9080 - val_loss: 0.3140 - val_accuracy: 0.8850\n",
      "Epoch 35/50\n",
      "14/14 [==============================] - 1s 57ms/step - loss: 0.2678 - accuracy: 0.9042 - val_loss: 0.3312 - val_accuracy: 0.8767\n",
      "Epoch 36/50\n",
      "14/14 [==============================] - 1s 59ms/step - loss: 0.2591 - accuracy: 0.9073 - val_loss: 0.3349 - val_accuracy: 0.8775\n",
      "Epoch 37/50\n",
      "14/14 [==============================] - 1s 61ms/step - loss: 0.2641 - accuracy: 0.9046 - val_loss: 0.3341 - val_accuracy: 0.8773\n",
      "Epoch 38/50\n",
      "14/14 [==============================] - 1s 58ms/step - loss: 0.2563 - accuracy: 0.9083 - val_loss: 0.3361 - val_accuracy: 0.8742\n",
      "Epoch 39/50\n",
      "14/14 [==============================] - 1s 59ms/step - loss: 0.2482 - accuracy: 0.9128 - val_loss: 0.3075 - val_accuracy: 0.8888\n",
      "Epoch 40/50\n",
      "14/14 [==============================] - 1s 58ms/step - loss: 0.2520 - accuracy: 0.9097 - val_loss: 0.3088 - val_accuracy: 0.8863\n",
      "Epoch 41/50\n",
      "14/14 [==============================] - 1s 58ms/step - loss: 0.2421 - accuracy: 0.9150 - val_loss: 0.3302 - val_accuracy: 0.8782\n",
      "Epoch 42/50\n",
      "14/14 [==============================] - 1s 59ms/step - loss: 0.2420 - accuracy: 0.9150 - val_loss: 0.3033 - val_accuracy: 0.8865\n",
      "Epoch 43/50\n",
      "14/14 [==============================] - 1s 58ms/step - loss: 0.2382 - accuracy: 0.9164 - val_loss: 0.3034 - val_accuracy: 0.8917\n",
      "Epoch 44/50\n",
      "14/14 [==============================] - 1s 60ms/step - loss: 0.2428 - accuracy: 0.9136 - val_loss: 0.3344 - val_accuracy: 0.8775\n",
      "Epoch 45/50\n",
      "14/14 [==============================] - 1s 60ms/step - loss: 0.2349 - accuracy: 0.9181 - val_loss: 0.2993 - val_accuracy: 0.8912\n",
      "Epoch 46/50\n",
      "14/14 [==============================] - 1s 60ms/step - loss: 0.2308 - accuracy: 0.9192 - val_loss: 0.2950 - val_accuracy: 0.8952\n",
      "Epoch 47/50\n",
      "14/14 [==============================] - 1s 58ms/step - loss: 0.2324 - accuracy: 0.9179 - val_loss: 0.3306 - val_accuracy: 0.8788\n",
      "Epoch 48/50\n",
      "14/14 [==============================] - 1s 57ms/step - loss: 0.2566 - accuracy: 0.9061 - val_loss: 0.3242 - val_accuracy: 0.8805\n",
      "Epoch 49/50\n",
      "14/14 [==============================] - 1s 58ms/step - loss: 0.2261 - accuracy: 0.9212 - val_loss: 0.3008 - val_accuracy: 0.8908\n",
      "Epoch 50/50\n",
      "14/14 [==============================] - 1s 58ms/step - loss: 0.2267 - accuracy: 0.9198 - val_loss: 0.3017 - val_accuracy: 0.8913\n"
     ]
    },
    {
     "data": {
      "text/plain": [
       "<keras.callbacks.History at 0x2bd24cb20>"
      ]
     },
     "execution_count": 10,
     "metadata": {},
     "output_type": "execute_result"
    }
   ],
   "source": [
    "tf.random.set_seed(1992)\n",
    "tf.keras.backend.clear_session()\n",
    "\n",
    "# Normalization of the data\n",
    "sample_images = train_set.take(250).map(lambda image, label: image)\n",
    "normalizer = layers.Normalization(input_shape=[28, 28])\n",
    "normalizer.adapt(sample_images)\n",
    "\n",
    "# Callbacks\n",
    "tensorboard_cb = callbacks.TensorBoard(\n",
    "    log_dir=get_log_dir(), profile_batch=10, histogram_freq=1\n",
    ")\n",
    "\n",
    "model = Sequential(\n",
    "    [\n",
    "        normalizer,\n",
    "        layers.Flatten(),\n",
    "        layers.Dense(100, activation=\"relu\"),\n",
    "        layers.Dense(10, activation=\"softmax\"),\n",
    "    ]\n",
    ")\n",
    "model.compile(\n",
    "    loss=\"sparse_categorical_crossentropy\", metrics=[\"accuracy\"], optimizer=\"nadam\"\n",
    ")\n",
    "\n",
    "model.fit(train_set, epochs=50, validation_data=valid_set, callbacks=[tensorboard_cb])\n"
   ]
  },
  {
   "cell_type": "markdown",
   "metadata": {},
   "source": [
    "#### 10. In this exercise you will download a dataset, split it, create a tf.data.Dataset to load it and preprocess it efficiently, then build and train a binary classification model containing an Embedding layer:\n",
    "\n",
    "#### - Download the Large Movie Review Dataset, which contains 50,000 movie reviews from the Internet Movie Database (IMDb). The data is organized in two directories, train and test, each containing a pos subdirectory with 12,500 positive reviews and a neg subdirectory with 12,500 negative reviews. Each review is stored in a separate text file. There are other files and folders (including preprocessed bag-of-words versions), but we will ignore them in this exercise.\n",
    "\n",
    "#### - Split the test set into a validation set (15,000) and a test set (10,000).\n",
    "\n",
    "#### - Use tf.data to create an efficient dataset for each set.\n",
    "\n",
    "#### - Create a binary classification model, using a TextVectorization layer to preprocess each review.\n",
    "\n",
    "#### - Add an Embedding layer and compute the mean embedding for each review, multiplied by the square root of the number of words (see Chapter 16). This rescaled mean embedding can then be passed to the rest of your model.\n",
    "\n",
    "#### - Train the model and see what accuracy you get. Try to optimize your pipelines to make training as fast as possible.\n",
    "\n",
    "#### - Use TFDS to load the same dataset more easily: tfds.load(\"imdb_reviews\")."
   ]
  }
 ],
 "metadata": {
  "kernelspec": {
   "display_name": "Python 3.10.8 ('.venv': poetry)",
   "language": "python",
   "name": "python3"
  },
  "language_info": {
   "codemirror_mode": {
    "name": "ipython",
    "version": 3
   },
   "file_extension": ".py",
   "mimetype": "text/x-python",
   "name": "python",
   "nbconvert_exporter": "python",
   "pygments_lexer": "ipython3",
   "version": "3.10.8"
  },
  "orig_nbformat": 4,
  "vscode": {
   "interpreter": {
    "hash": "b20fb8559386147dc77cba9f7518a8c175fc982b8c10bebe842520e16b3ac5d9"
   }
  }
 },
 "nbformat": 4,
 "nbformat_minor": 2
}
