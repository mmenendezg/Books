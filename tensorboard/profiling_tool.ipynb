{
 "cells": [
  {
   "cell_type": "markdown",
   "metadata": {},
   "source": [
    "# TensorFlow Profiler: Profile Model Performance"
   ]
  },
  {
   "cell_type": "code",
   "execution_count": 1,
   "metadata": {},
   "outputs": [
    {
     "name": "stderr",
     "output_type": "stream",
     "text": [
      "/Users/mmenendezg/Developer/Books/.venv/lib/python3.9/site-packages/tqdm/auto.py:22: TqdmWarning: IProgress not found. Please update jupyter and ipywidgets. See https://ipywidgets.readthedocs.io/en/stable/user_install.html\n",
      "  from .autonotebook import tqdm as notebook_tqdm\n"
     ]
    }
   ],
   "source": [
    "from datetime import datetime\n",
    "from packaging import version\n",
    "\n",
    "import os \n",
    "\n",
    "import tensorflow as tf\n",
    "from tensorflow.keras import (\n",
    "    layers,\n",
    "    Sequential, \n",
    "    optimizers,\n",
    "    callbacks\n",
    ")\n",
    "import tensorflow_datasets as tfds"
   ]
  },
  {
   "cell_type": "code",
   "execution_count": 2,
   "metadata": {},
   "outputs": [
    {
     "name": "stdout",
     "output_type": "stream",
     "text": [
      "Found GPU at: /device:GPU:0\n",
      "Metal device set to: Apple M1 Pro\n",
      "\n",
      "systemMemory: 32.00 GB\n",
      "maxCacheSize: 10.67 GB\n",
      "\n"
     ]
    }
   ],
   "source": [
    "device_name = tf.test.gpu_device_name()\n",
    "if not device_name:\n",
    "    raise SystemError('GPU device not found')\n",
    "print(f'Found GPU at: {device_name}')"
   ]
  },
  {
   "cell_type": "markdown",
   "metadata": {},
   "source": [
    "## Train an Image Classification Model with TensorBoard Callbacks"
   ]
  },
  {
   "cell_type": "code",
   "execution_count": 3,
   "metadata": {},
   "outputs": [],
   "source": [
    "tfds.disable_progress_bar()\n",
    "\n",
    "(ds_train, ds_test), ds_info = tfds.load(\n",
    "    'mnist',\n",
    "    split=['train', 'test'],\n",
    "    shuffle_files=True,\n",
    "    as_supervised=True,\n",
    "    with_info=True,\n",
    ")"
   ]
  },
  {
   "cell_type": "code",
   "execution_count": null,
   "metadata": {},
   "outputs": [],
   "source": []
  },
  {
   "cell_type": "code",
   "execution_count": 4,
   "metadata": {},
   "outputs": [],
   "source": [
    "def normalize_img(image, label):\n",
    "    return tf.cast(image, tf.float32) / 255., label\n",
    "\n",
    "ds_train = ds_train.map(normalize_img, num_parallel_calls=tf.data.AUTOTUNE)\n",
    "ds_train = ds_train.batch(128)\n"
   ]
  },
  {
   "cell_type": "code",
   "execution_count": 5,
   "metadata": {},
   "outputs": [],
   "source": [
    "ds_test = ds_test.map(normalize_img, num_parallel_calls=tf.data.AUTOTUNE)\n",
    "ds_test = ds_test.batch(128)"
   ]
  },
  {
   "cell_type": "code",
   "execution_count": 6,
   "metadata": {},
   "outputs": [],
   "source": [
    "model = Sequential([\n",
    "    layers.Flatten(input_shape=(28, 28, 1)),\n",
    "    layers.Dense(128, activation='relu'),\n",
    "    layers.Dense(10, activation='softmax')\n",
    "])\n",
    "\n",
    "model.compile(\n",
    "    loss='sparse_categorical_crossentropy',\n",
    "    optimizer = optimizers.Adam(0.001),\n",
    "    metrics=['accuracy']\n",
    ")\n",
    "\n",
    "\n",
    "logs = 'logs/' + datetime.now().strftime('%Y%m%d-%H%M%S')\n",
    "tensorboard_cb = callbacks.TensorBoard(log_dir=logs, histogram_freq=1, profile_batch='500,520')"
   ]
  },
  {
   "cell_type": "code",
   "execution_count": 7,
   "metadata": {},
   "outputs": [
    {
     "name": "stdout",
     "output_type": "stream",
     "text": [
      "The training has begun. Go for a coffee!!\n",
      "Epoch 1/20\n"
     ]
    },
    {
     "ename": "InvalidArgumentError",
     "evalue": "Multiple Default OpKernel registrations match NodeDef '{{node ZerosLike}}': 'op: \"ZerosLike\" device_type: \"DEFAULT\" constraint { name: \"T\" allowed_values { list { type: DT_INT32 } } } host_memory_arg: \"y\"' and 'op: \"ZerosLike\" device_type: \"DEFAULT\" constraint { name: \"T\" allowed_values { list { type: DT_INT32 } } } host_memory_arg: \"y\"' [Op:ZerosLike]",
     "output_type": "error",
     "traceback": [
      "\u001b[0;31m---------------------------------------------------------------------------\u001b[0m",
      "\u001b[0;31mInvalidArgumentError\u001b[0m                      Traceback (most recent call last)",
      "\u001b[1;32m/Users/mmenendezg/Developer/Books/tensorboard/profiling_tool.ipynb Cell 9'\u001b[0m in \u001b[0;36m<cell line: 3>\u001b[0;34m()\u001b[0m\n\u001b[1;32m      <a href='vscode-notebook-cell:/Users/mmenendezg/Developer/Books/tensorboard/profiling_tool.ipynb#ch0000008?line=0'>1</a>\u001b[0m \u001b[39mprint\u001b[39m(\u001b[39m'\u001b[39m\u001b[39mThe training has begun. Go for a coffee!!\u001b[39m\u001b[39m'\u001b[39m)\n\u001b[0;32m----> <a href='vscode-notebook-cell:/Users/mmenendezg/Developer/Books/tensorboard/profiling_tool.ipynb#ch0000008?line=2'>3</a>\u001b[0m history \u001b[39m=\u001b[39m model\u001b[39m.\u001b[39;49mfit(ds_train,\n\u001b[1;32m      <a href='vscode-notebook-cell:/Users/mmenendezg/Developer/Books/tensorboard/profiling_tool.ipynb#ch0000008?line=3'>4</a>\u001b[0m                     validation_data\u001b[39m=\u001b[39;49mds_test,\n\u001b[1;32m      <a href='vscode-notebook-cell:/Users/mmenendezg/Developer/Books/tensorboard/profiling_tool.ipynb#ch0000008?line=4'>5</a>\u001b[0m                     epochs\u001b[39m=\u001b[39;49m\u001b[39m20\u001b[39;49m,\n\u001b[1;32m      <a href='vscode-notebook-cell:/Users/mmenendezg/Developer/Books/tensorboard/profiling_tool.ipynb#ch0000008?line=5'>6</a>\u001b[0m                     callbacks\u001b[39m=\u001b[39;49m[tensorboard_cb],\n\u001b[1;32m      <a href='vscode-notebook-cell:/Users/mmenendezg/Developer/Books/tensorboard/profiling_tool.ipynb#ch0000008?line=6'>7</a>\u001b[0m                     verbose\u001b[39m=\u001b[39;49m\u001b[39m2\u001b[39;49m)\n\u001b[1;32m      <a href='vscode-notebook-cell:/Users/mmenendezg/Developer/Books/tensorboard/profiling_tool.ipynb#ch0000008?line=8'>9</a>\u001b[0m \u001b[39mprint\u001b[39m(\u001b[39m'\u001b[39m\u001b[39mThe training has finished.\u001b[39m\u001b[39m'\u001b[39m)\n\u001b[1;32m     <a href='vscode-notebook-cell:/Users/mmenendezg/Developer/Books/tensorboard/profiling_tool.ipynb#ch0000008?line=9'>10</a>\u001b[0m \u001b[39mprint\u001b[39m(\u001b[39mf\u001b[39m\u001b[39m'\u001b[39m\u001b[39mThe accuracy of the model is \u001b[39m\u001b[39m{\u001b[39;00m\u001b[39mround\u001b[39m(history\u001b[39m.\u001b[39mhistory[\u001b[39m\"\u001b[39m\u001b[39maccuracy\u001b[39m\u001b[39m\"\u001b[39m][\u001b[39m-\u001b[39m\u001b[39m1\u001b[39m], \u001b[39m4\u001b[39m)\u001b[39m}\u001b[39;00m\u001b[39m'\u001b[39m)\n",
      "File \u001b[0;32m~/Developer/Books/.venv/lib/python3.9/site-packages/keras/utils/traceback_utils.py:67\u001b[0m, in \u001b[0;36mfilter_traceback.<locals>.error_handler\u001b[0;34m(*args, **kwargs)\u001b[0m\n\u001b[1;32m     <a href='file:///Users/mmenendezg/Developer/Books/.venv/lib/python3.9/site-packages/keras/utils/traceback_utils.py?line=64'>65</a>\u001b[0m \u001b[39mexcept\u001b[39;00m \u001b[39mException\u001b[39;00m \u001b[39mas\u001b[39;00m e:  \u001b[39m# pylint: disable=broad-except\u001b[39;00m\n\u001b[1;32m     <a href='file:///Users/mmenendezg/Developer/Books/.venv/lib/python3.9/site-packages/keras/utils/traceback_utils.py?line=65'>66</a>\u001b[0m   filtered_tb \u001b[39m=\u001b[39m _process_traceback_frames(e\u001b[39m.\u001b[39m__traceback__)\n\u001b[0;32m---> <a href='file:///Users/mmenendezg/Developer/Books/.venv/lib/python3.9/site-packages/keras/utils/traceback_utils.py?line=66'>67</a>\u001b[0m   \u001b[39mraise\u001b[39;00m e\u001b[39m.\u001b[39mwith_traceback(filtered_tb) \u001b[39mfrom\u001b[39;00m \u001b[39mNone\u001b[39m\n\u001b[1;32m     <a href='file:///Users/mmenendezg/Developer/Books/.venv/lib/python3.9/site-packages/keras/utils/traceback_utils.py?line=67'>68</a>\u001b[0m \u001b[39mfinally\u001b[39;00m:\n\u001b[1;32m     <a href='file:///Users/mmenendezg/Developer/Books/.venv/lib/python3.9/site-packages/keras/utils/traceback_utils.py?line=68'>69</a>\u001b[0m   \u001b[39mdel\u001b[39;00m filtered_tb\n",
      "File \u001b[0;32m~/Developer/Books/.venv/lib/python3.9/site-packages/tensorboard/plugins/histogram/summary_v2.py:194\u001b[0m, in \u001b[0;36mhistogram\u001b[0;34m(name, data, step, buckets, description)\u001b[0m\n\u001b[1;32m    <a href='file:///Users/mmenendezg/Developer/Books/.venv/lib/python3.9/site-packages/tensorboard/plugins/histogram/summary_v2.py?line=189'>190</a>\u001b[0m \u001b[39m@lazy_tensor_creator\u001b[39m\u001b[39m.\u001b[39mLazyTensorCreator\n\u001b[1;32m    <a href='file:///Users/mmenendezg/Developer/Books/.venv/lib/python3.9/site-packages/tensorboard/plugins/histogram/summary_v2.py?line=190'>191</a>\u001b[0m \u001b[39mdef\u001b[39;00m \u001b[39mlazy_tensor\u001b[39m():\n\u001b[1;32m    <a href='file:///Users/mmenendezg/Developer/Books/.venv/lib/python3.9/site-packages/tensorboard/plugins/histogram/summary_v2.py?line=191'>192</a>\u001b[0m     \u001b[39mreturn\u001b[39;00m _buckets(data, buckets)\n\u001b[0;32m--> <a href='file:///Users/mmenendezg/Developer/Books/.venv/lib/python3.9/site-packages/tensorboard/plugins/histogram/summary_v2.py?line=193'>194</a>\u001b[0m \u001b[39mreturn\u001b[39;00m tf\u001b[39m.\u001b[39msummary\u001b[39m.\u001b[39mwrite(\n\u001b[1;32m    <a href='file:///Users/mmenendezg/Developer/Books/.venv/lib/python3.9/site-packages/tensorboard/plugins/histogram/summary_v2.py?line=194'>195</a>\u001b[0m     tag\u001b[39m=\u001b[39mtag,\n\u001b[1;32m    <a href='file:///Users/mmenendezg/Developer/Books/.venv/lib/python3.9/site-packages/tensorboard/plugins/histogram/summary_v2.py?line=195'>196</a>\u001b[0m     tensor\u001b[39m=\u001b[39mlazy_tensor,\n\u001b[1;32m    <a href='file:///Users/mmenendezg/Developer/Books/.venv/lib/python3.9/site-packages/tensorboard/plugins/histogram/summary_v2.py?line=196'>197</a>\u001b[0m     step\u001b[39m=\u001b[39mstep,\n\u001b[1;32m    <a href='file:///Users/mmenendezg/Developer/Books/.venv/lib/python3.9/site-packages/tensorboard/plugins/histogram/summary_v2.py?line=197'>198</a>\u001b[0m     metadata\u001b[39m=\u001b[39msummary_metadata,\n\u001b[1;32m    <a href='file:///Users/mmenendezg/Developer/Books/.venv/lib/python3.9/site-packages/tensorboard/plugins/histogram/summary_v2.py?line=198'>199</a>\u001b[0m )\n",
      "File \u001b[0;32m~/Developer/Books/.venv/lib/python3.9/site-packages/tensorboard/util/lazy_tensor_creator.py:66\u001b[0m, in \u001b[0;36mLazyTensorCreator.__call__\u001b[0;34m(self)\u001b[0m\n\u001b[1;32m     <a href='file:///Users/mmenendezg/Developer/Books/.venv/lib/python3.9/site-packages/tensorboard/util/lazy_tensor_creator.py?line=63'>64</a>\u001b[0m         \u001b[39melif\u001b[39;00m \u001b[39mself\u001b[39m\u001b[39m.\u001b[39m_tensor \u001b[39mis\u001b[39;00m \u001b[39mNone\u001b[39;00m:\n\u001b[1;32m     <a href='file:///Users/mmenendezg/Developer/Books/.venv/lib/python3.9/site-packages/tensorboard/util/lazy_tensor_creator.py?line=64'>65</a>\u001b[0m             \u001b[39mself\u001b[39m\u001b[39m.\u001b[39m_tensor \u001b[39m=\u001b[39m _CALL_IN_PROGRESS_SENTINEL\n\u001b[0;32m---> <a href='file:///Users/mmenendezg/Developer/Books/.venv/lib/python3.9/site-packages/tensorboard/util/lazy_tensor_creator.py?line=65'>66</a>\u001b[0m             \u001b[39mself\u001b[39m\u001b[39m.\u001b[39m_tensor \u001b[39m=\u001b[39m \u001b[39mself\u001b[39m\u001b[39m.\u001b[39m_tensor_callable()\n\u001b[1;32m     <a href='file:///Users/mmenendezg/Developer/Books/.venv/lib/python3.9/site-packages/tensorboard/util/lazy_tensor_creator.py?line=66'>67</a>\u001b[0m \u001b[39mreturn\u001b[39;00m \u001b[39mself\u001b[39m\u001b[39m.\u001b[39m_tensor\n",
      "File \u001b[0;32m~/Developer/Books/.venv/lib/python3.9/site-packages/tensorboard/plugins/histogram/summary_v2.py:192\u001b[0m, in \u001b[0;36mhistogram.<locals>.lazy_tensor\u001b[0;34m()\u001b[0m\n\u001b[1;32m    <a href='file:///Users/mmenendezg/Developer/Books/.venv/lib/python3.9/site-packages/tensorboard/plugins/histogram/summary_v2.py?line=189'>190</a>\u001b[0m \u001b[39m@lazy_tensor_creator\u001b[39m\u001b[39m.\u001b[39mLazyTensorCreator\n\u001b[1;32m    <a href='file:///Users/mmenendezg/Developer/Books/.venv/lib/python3.9/site-packages/tensorboard/plugins/histogram/summary_v2.py?line=190'>191</a>\u001b[0m \u001b[39mdef\u001b[39;00m \u001b[39mlazy_tensor\u001b[39m():\n\u001b[0;32m--> <a href='file:///Users/mmenendezg/Developer/Books/.venv/lib/python3.9/site-packages/tensorboard/plugins/histogram/summary_v2.py?line=191'>192</a>\u001b[0m     \u001b[39mreturn\u001b[39;00m _buckets(data, buckets)\n",
      "File \u001b[0;32m~/Developer/Books/.venv/lib/python3.9/site-packages/tensorboard/plugins/histogram/summary_v2.py:291\u001b[0m, in \u001b[0;36m_buckets\u001b[0;34m(data, bucket_count)\u001b[0m\n\u001b[1;32m    <a href='file:///Users/mmenendezg/Developer/Books/.venv/lib/python3.9/site-packages/tensorboard/plugins/histogram/summary_v2.py?line=284'>285</a>\u001b[0m         \u001b[39mreturn\u001b[39;00m tf\u001b[39m.\u001b[39mtranspose(a\u001b[39m=\u001b[39mtf\u001b[39m.\u001b[39mstack([edges, edges, bucket_counts]))\n\u001b[1;32m    <a href='file:///Users/mmenendezg/Developer/Books/.venv/lib/python3.9/site-packages/tensorboard/plugins/histogram/summary_v2.py?line=286'>287</a>\u001b[0m     \u001b[39mreturn\u001b[39;00m tf\u001b[39m.\u001b[39mcond(\n\u001b[1;32m    <a href='file:///Users/mmenendezg/Developer/Books/.venv/lib/python3.9/site-packages/tensorboard/plugins/histogram/summary_v2.py?line=287'>288</a>\u001b[0m         has_single_value, when_single_value, when_multiple_values\n\u001b[1;32m    <a href='file:///Users/mmenendezg/Developer/Books/.venv/lib/python3.9/site-packages/tensorboard/plugins/histogram/summary_v2.py?line=288'>289</a>\u001b[0m     )\n\u001b[0;32m--> <a href='file:///Users/mmenendezg/Developer/Books/.venv/lib/python3.9/site-packages/tensorboard/plugins/histogram/summary_v2.py?line=290'>291</a>\u001b[0m \u001b[39mreturn\u001b[39;00m tf\u001b[39m.\u001b[39mcond(is_empty, when_empty, when_nonempty)\n",
      "File \u001b[0;32m~/Developer/Books/.venv/lib/python3.9/site-packages/tensorboard/plugins/histogram/summary_v2.py:287\u001b[0m, in \u001b[0;36m_buckets.<locals>.when_nonempty\u001b[0;34m()\u001b[0m\n\u001b[1;32m    <a href='file:///Users/mmenendezg/Developer/Books/.venv/lib/python3.9/site-packages/tensorboard/plugins/histogram/summary_v2.py?line=280'>281</a>\u001b[0m     bucket_counts \u001b[39m=\u001b[39m tf\u001b[39m.\u001b[39mcast(\n\u001b[1;32m    <a href='file:///Users/mmenendezg/Developer/Books/.venv/lib/python3.9/site-packages/tensorboard/plugins/histogram/summary_v2.py?line=281'>282</a>\u001b[0m         tf\u001b[39m.\u001b[39mconcat([zeroes[:\u001b[39m-\u001b[39m\u001b[39m1\u001b[39m], [data_size]], \u001b[39m0\u001b[39m)[:bucket_count],\n\u001b[1;32m    <a href='file:///Users/mmenendezg/Developer/Books/.venv/lib/python3.9/site-packages/tensorboard/plugins/histogram/summary_v2.py?line=282'>283</a>\u001b[0m         dtype\u001b[39m=\u001b[39mtf\u001b[39m.\u001b[39mfloat64,\n\u001b[1;32m    <a href='file:///Users/mmenendezg/Developer/Books/.venv/lib/python3.9/site-packages/tensorboard/plugins/histogram/summary_v2.py?line=283'>284</a>\u001b[0m     )\n\u001b[1;32m    <a href='file:///Users/mmenendezg/Developer/Books/.venv/lib/python3.9/site-packages/tensorboard/plugins/histogram/summary_v2.py?line=284'>285</a>\u001b[0m     \u001b[39mreturn\u001b[39;00m tf\u001b[39m.\u001b[39mtranspose(a\u001b[39m=\u001b[39mtf\u001b[39m.\u001b[39mstack([edges, edges, bucket_counts]))\n\u001b[0;32m--> <a href='file:///Users/mmenendezg/Developer/Books/.venv/lib/python3.9/site-packages/tensorboard/plugins/histogram/summary_v2.py?line=286'>287</a>\u001b[0m \u001b[39mreturn\u001b[39;00m tf\u001b[39m.\u001b[39;49mcond(\n\u001b[1;32m    <a href='file:///Users/mmenendezg/Developer/Books/.venv/lib/python3.9/site-packages/tensorboard/plugins/histogram/summary_v2.py?line=287'>288</a>\u001b[0m     has_single_value, when_single_value, when_multiple_values\n\u001b[1;32m    <a href='file:///Users/mmenendezg/Developer/Books/.venv/lib/python3.9/site-packages/tensorboard/plugins/histogram/summary_v2.py?line=288'>289</a>\u001b[0m )\n",
      "File \u001b[0;32m~/Developer/Books/.venv/lib/python3.9/site-packages/tensorboard/plugins/histogram/summary_v2.py:263\u001b[0m, in \u001b[0;36m_buckets.<locals>.when_nonempty.<locals>.when_multiple_values\u001b[0;34m()\u001b[0m\n\u001b[1;32m    <a href='file:///Users/mmenendezg/Developer/Books/.venv/lib/python3.9/site-packages/tensorboard/plugins/histogram/summary_v2.py?line=255'>256</a>\u001b[0m one_hots \u001b[39m=\u001b[39m tf\u001b[39m.\u001b[39mone_hot(\n\u001b[1;32m    <a href='file:///Users/mmenendezg/Developer/Books/.venv/lib/python3.9/site-packages/tensorboard/plugins/histogram/summary_v2.py?line=256'>257</a>\u001b[0m     clamped_indices, depth\u001b[39m=\u001b[39mbucket_count, dtype\u001b[39m=\u001b[39mtf\u001b[39m.\u001b[39mfloat64\n\u001b[1;32m    <a href='file:///Users/mmenendezg/Developer/Books/.venv/lib/python3.9/site-packages/tensorboard/plugins/histogram/summary_v2.py?line=257'>258</a>\u001b[0m )\n\u001b[1;32m    <a href='file:///Users/mmenendezg/Developer/Books/.venv/lib/python3.9/site-packages/tensorboard/plugins/histogram/summary_v2.py?line=258'>259</a>\u001b[0m bucket_counts \u001b[39m=\u001b[39m tf\u001b[39m.\u001b[39mcast(\n\u001b[1;32m    <a href='file:///Users/mmenendezg/Developer/Books/.venv/lib/python3.9/site-packages/tensorboard/plugins/histogram/summary_v2.py?line=259'>260</a>\u001b[0m     tf\u001b[39m.\u001b[39mreduce_sum(input_tensor\u001b[39m=\u001b[39mone_hots, axis\u001b[39m=\u001b[39m\u001b[39m0\u001b[39m),\n\u001b[1;32m    <a href='file:///Users/mmenendezg/Developer/Books/.venv/lib/python3.9/site-packages/tensorboard/plugins/histogram/summary_v2.py?line=260'>261</a>\u001b[0m     dtype\u001b[39m=\u001b[39mtf\u001b[39m.\u001b[39mfloat64,\n\u001b[1;32m    <a href='file:///Users/mmenendezg/Developer/Books/.venv/lib/python3.9/site-packages/tensorboard/plugins/histogram/summary_v2.py?line=261'>262</a>\u001b[0m )\n\u001b[0;32m--> <a href='file:///Users/mmenendezg/Developer/Books/.venv/lib/python3.9/site-packages/tensorboard/plugins/histogram/summary_v2.py?line=262'>263</a>\u001b[0m edges \u001b[39m=\u001b[39m tf\u001b[39m.\u001b[39;49mlinspace(min_, max_, bucket_count \u001b[39m+\u001b[39;49m \u001b[39m1\u001b[39;49m)\n\u001b[1;32m    <a href='file:///Users/mmenendezg/Developer/Books/.venv/lib/python3.9/site-packages/tensorboard/plugins/histogram/summary_v2.py?line=263'>264</a>\u001b[0m \u001b[39m# Ensure edges[-1] == max_, which TF's linspace implementation does not\u001b[39;00m\n\u001b[1;32m    <a href='file:///Users/mmenendezg/Developer/Books/.venv/lib/python3.9/site-packages/tensorboard/plugins/histogram/summary_v2.py?line=264'>265</a>\u001b[0m \u001b[39m# do, leaving it subject to the whim of floating point rounding error.\u001b[39;00m\n\u001b[1;32m    <a href='file:///Users/mmenendezg/Developer/Books/.venv/lib/python3.9/site-packages/tensorboard/plugins/histogram/summary_v2.py?line=265'>266</a>\u001b[0m edges \u001b[39m=\u001b[39m tf\u001b[39m.\u001b[39mconcat([edges[:\u001b[39m-\u001b[39m\u001b[39m1\u001b[39m], [max_]], \u001b[39m0\u001b[39m)\n",
      "\u001b[0;31mInvalidArgumentError\u001b[0m: Multiple Default OpKernel registrations match NodeDef '{{node ZerosLike}}': 'op: \"ZerosLike\" device_type: \"DEFAULT\" constraint { name: \"T\" allowed_values { list { type: DT_INT32 } } } host_memory_arg: \"y\"' and 'op: \"ZerosLike\" device_type: \"DEFAULT\" constraint { name: \"T\" allowed_values { list { type: DT_INT32 } } } host_memory_arg: \"y\"' [Op:ZerosLike]"
     ]
    }
   ],
   "source": [
    "print('The training has begun. Go for a coffee!!')\n",
    "\n",
    "history = model.fit(ds_train,\n",
    "                    validation_data=ds_test,\n",
    "                    epochs=20,\n",
    "                    callbacks=[tensorboard_cb],\n",
    "                    verbose=2)\n",
    "\n",
    "print('The training has finished.')\n",
    "print(f'The accuracy of the model is {round(history.history[\"accuracy\"][-1], 4)}')"
   ]
  },
  {
   "cell_type": "markdown",
   "metadata": {},
   "source": [
    "## Use the TensorFlow Profiler Model Training Performance"
   ]
  },
  {
   "cell_type": "code",
   "execution_count": null,
   "metadata": {},
   "outputs": [
    {
     "name": "stdout",
     "output_type": "stream",
     "text": [
      "The tensorboard extension is already loaded. To reload it, use:\n",
      "  %reload_ext tensorboard\n"
     ]
    },
    {
     "data": {
      "text/plain": [
       "Reusing TensorBoard on port 6007 (pid 13680), started 0:03:19 ago. (Use '!kill 13680' to kill it.)"
      ]
     },
     "metadata": {},
     "output_type": "display_data"
    },
    {
     "data": {
      "text/html": [
       "\n",
       "      <iframe id=\"tensorboard-frame-e934ab8e9b307360\" width=\"100%\" height=\"800\" frameborder=\"0\">\n",
       "      </iframe>\n",
       "      <script>\n",
       "        (function() {\n",
       "          const frame = document.getElementById(\"tensorboard-frame-e934ab8e9b307360\");\n",
       "          const url = new URL(\"http://localhost\");\n",
       "          const port = 6007;\n",
       "          if (port) {\n",
       "            url.port = port;\n",
       "          }\n",
       "          frame.src = url;\n",
       "        })();\n",
       "      </script>\n",
       "    "
      ],
      "text/plain": [
       "<IPython.core.display.HTML object>"
      ]
     },
     "metadata": {},
     "output_type": "display_data"
    }
   ],
   "source": [
    "%load_ext tensorboard\n",
    "%tensorboard --logdir=logs"
   ]
  },
  {
   "cell_type": "code",
   "execution_count": null,
   "metadata": {},
   "outputs": [],
   "source": []
  }
 ],
 "metadata": {
  "interpreter": {
   "hash": "b20fb8559386147dc77cba9f7518a8c175fc982b8c10bebe842520e16b3ac5d9"
  },
  "kernelspec": {
   "display_name": "Python 3.9.13 ('.venv': poetry)",
   "language": "python",
   "name": "python3"
  },
  "language_info": {
   "codemirror_mode": {
    "name": "ipython",
    "version": 3
   },
   "file_extension": ".py",
   "mimetype": "text/x-python",
   "name": "python",
   "nbconvert_exporter": "python",
   "pygments_lexer": "ipython3",
   "version": "3.9.13"
  },
  "orig_nbformat": 4
 },
 "nbformat": 4,
 "nbformat_minor": 2
}
