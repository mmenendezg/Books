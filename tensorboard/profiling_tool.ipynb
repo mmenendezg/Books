{
 "cells": [
  {
   "cell_type": "markdown",
   "metadata": {},
   "source": [
    "# TensorFlow Profiler: Profile Model Performance"
   ]
  },
  {
   "cell_type": "code",
   "execution_count": 1,
   "metadata": {},
   "outputs": [],
   "source": [
    "from datetime import datetime\n",
    "from packaging import version\n",
    "\n",
    "import os \n",
    "\n",
    "import tensorflow as tf\n",
    "from tensorflow.keras import (\n",
    "    layers,\n",
    "    Sequential, \n",
    "    optimizers,\n",
    "    callbacks\n",
    ")\n",
    "import tensorflow_datasets as tfds"
   ]
  },
  {
   "cell_type": "code",
   "execution_count": 2,
   "metadata": {},
   "outputs": [
    {
     "name": "stdout",
     "output_type": "stream",
     "text": [
      "Found GPU at: /device:GPU:0\n"
     ]
    },
    {
     "name": "stderr",
     "output_type": "stream",
     "text": [
      "2022-03-18 13:20:54.732793: I tensorflow/core/common_runtime/pluggable_device/pluggable_device_factory.cc:305] Could not identify NUMA node of platform GPU ID 0, defaulting to 0. Your kernel may not have been built with NUMA support.\n",
      "2022-03-18 13:20:54.732921: I tensorflow/core/common_runtime/pluggable_device/pluggable_device_factory.cc:271] Created TensorFlow device (/device:GPU:0 with 0 MB memory) -> physical PluggableDevice (device: 0, name: METAL, pci bus id: <undefined>)\n"
     ]
    },
    {
     "name": "stdout",
     "output_type": "stream",
     "text": [
      "Metal device set to: Apple M1 Pro\n",
      "\n",
      "systemMemory: 32.00 GB\n",
      "maxCacheSize: 10.67 GB\n",
      "\n"
     ]
    }
   ],
   "source": [
    "device_name = tf.test.gpu_device_name()\n",
    "if not device_name:\n",
    "    raise SystemError('GPU device not found')\n",
    "print(f'Found GPU at: {device_name}')"
   ]
  },
  {
   "cell_type": "markdown",
   "metadata": {},
   "source": [
    "## Train an Image Classification Model with TensorBoard Callbacks"
   ]
  },
  {
   "cell_type": "code",
   "execution_count": 15,
   "metadata": {},
   "outputs": [],
   "source": [
    "tfds.disable_progress_bar()\n",
    "\n",
    "(ds_train, ds_test), ds_info = tfds.load(\n",
    "    'mnist',\n",
    "    split=['train', 'test'],\n",
    "    shuffle_files=True,\n",
    "    as_supervised=True,\n",
    "    with_info=True,\n",
    ")"
   ]
  },
  {
   "cell_type": "code",
   "execution_count": 16,
   "metadata": {},
   "outputs": [],
   "source": [
    "def normalize_img(image, label):\n",
    "    return tf.cast(image, tf.float32) / 255., label\n",
    "\n",
    "ds_train = ds_train.map(normalize_img, num_parallel_calls=tf.data.AUTOTUNE)\n",
    "ds_train = ds_train.batch(128)\n"
   ]
  },
  {
   "cell_type": "code",
   "execution_count": 17,
   "metadata": {},
   "outputs": [],
   "source": [
    "ds_test = ds_test.map(normalize_img, num_parallel_calls=tf.data.AUTOTUNE)\n",
    "ds_test = ds_test.batch(128)"
   ]
  },
  {
   "cell_type": "code",
   "execution_count": 18,
   "metadata": {},
   "outputs": [
    {
     "name": "stderr",
     "output_type": "stream",
     "text": [
      "2022-03-18 13:26:48.248265: I tensorflow/core/profiler/lib/profiler_session.cc:110] Profiler session initializing.\n",
      "2022-03-18 13:26:48.248275: I tensorflow/core/profiler/lib/profiler_session.cc:125] Profiler session started.\n",
      "2022-03-18 13:26:48.248300: I tensorflow/core/profiler/lib/profiler_session.cc:143] Profiler session tear down.\n"
     ]
    }
   ],
   "source": [
    "model = Sequential([\n",
    "    layers.Flatten(input_shape=(28, 28, 1)),\n",
    "    layers.Dense(128, activation='relu'),\n",
    "    layers.Dense(10, activation='softmax')\n",
    "])\n",
    "\n",
    "model.compile(\n",
    "    loss='sparse_categorical_crossentropy',\n",
    "    optimizer = optimizers.Adam(0.001),\n",
    "    metrics=['accuracy']\n",
    ")\n",
    "\n",
    "\n",
    "logs = 'logs/' + datetime.now().strftime('%Y%m%d-%H%M%S')\n",
    "tensorboard_cb = callbacks.TensorBoard(log_dir=logs, histogram_freq=1, profile_batch='500,520')"
   ]
  },
  {
   "cell_type": "code",
   "execution_count": 19,
   "metadata": {},
   "outputs": [
    {
     "name": "stdout",
     "output_type": "stream",
     "text": [
      "The training has begun. Go for a coffee!!\n",
      "Epoch 1/20\n"
     ]
    },
    {
     "name": "stderr",
     "output_type": "stream",
     "text": [
      "2022-03-18 13:26:48.420639: I tensorflow/core/grappler/optimizers/custom_graph_optimizer_registry.cc:113] Plugin optimizer for device_type GPU is enabled.\n",
      "2022-03-18 13:26:50.896327: I tensorflow/core/grappler/optimizers/custom_graph_optimizer_registry.cc:113] Plugin optimizer for device_type GPU is enabled.\n"
     ]
    },
    {
     "name": "stdout",
     "output_type": "stream",
     "text": [
      "469/469 - 3s - loss: 0.3619 - accuracy: 0.8992 - val_loss: 0.1935 - val_accuracy: 0.9448 - 3s/epoch - 6ms/step\n",
      "Epoch 2/20\n"
     ]
    },
    {
     "name": "stderr",
     "output_type": "stream",
     "text": [
      "2022-03-18 13:26:51.431543: I tensorflow/core/profiler/lib/profiler_session.cc:110] Profiler session initializing.\n",
      "2022-03-18 13:26:51.431561: I tensorflow/core/profiler/lib/profiler_session.cc:125] Profiler session started.\n",
      "2022-03-18 13:26:51.774556: I tensorflow/core/profiler/lib/profiler_session.cc:67] Profiler session collecting data.\n",
      "2022-03-18 13:26:51.825512: I tensorflow/core/profiler/lib/profiler_session.cc:143] Profiler session tear down.\n",
      "2022-03-18 13:26:51.862553: I tensorflow/core/profiler/rpc/client/save_profile.cc:136] Creating directory: logs/20220318-132648/plugins/profile/2022_03_18_13_26_51\n",
      "\n",
      "2022-03-18 13:26:51.908204: I tensorflow/core/profiler/rpc/client/save_profile.cc:142] Dumped gzipped tool data for trace.json.gz to logs/20220318-132648/plugins/profile/2022_03_18_13_26_51/Marlons-MacBook-Pro.local.trace.json.gz\n",
      "2022-03-18 13:26:51.918798: I tensorflow/core/profiler/rpc/client/save_profile.cc:136] Creating directory: logs/20220318-132648/plugins/profile/2022_03_18_13_26_51\n",
      "\n",
      "2022-03-18 13:26:51.919342: I tensorflow/core/profiler/rpc/client/save_profile.cc:142] Dumped gzipped tool data for memory_profile.json.gz to logs/20220318-132648/plugins/profile/2022_03_18_13_26_51/Marlons-MacBook-Pro.local.memory_profile.json.gz\n",
      "2022-03-18 13:26:51.921954: I tensorflow/core/profiler/rpc/client/capture_profile.cc:251] Creating directory: logs/20220318-132648/plugins/profile/2022_03_18_13_26_51\n",
      "Dumped tool data for xplane.pb to logs/20220318-132648/plugins/profile/2022_03_18_13_26_51/Marlons-MacBook-Pro.local.xplane.pb\n",
      "Dumped tool data for overview_page.pb to logs/20220318-132648/plugins/profile/2022_03_18_13_26_51/Marlons-MacBook-Pro.local.overview_page.pb\n",
      "Dumped tool data for input_pipeline.pb to logs/20220318-132648/plugins/profile/2022_03_18_13_26_51/Marlons-MacBook-Pro.local.input_pipeline.pb\n",
      "Dumped tool data for tensorflow_stats.pb to logs/20220318-132648/plugins/profile/2022_03_18_13_26_51/Marlons-MacBook-Pro.local.tensorflow_stats.pb\n",
      "Dumped tool data for kernel_stats.pb to logs/20220318-132648/plugins/profile/2022_03_18_13_26_51/Marlons-MacBook-Pro.local.kernel_stats.pb\n",
      "\n"
     ]
    },
    {
     "name": "stdout",
     "output_type": "stream",
     "text": [
      "469/469 - 3s - loss: 0.1666 - accuracy: 0.9525 - val_loss: 0.1360 - val_accuracy: 0.9620 - 3s/epoch - 7ms/step\n",
      "Epoch 3/20\n",
      "469/469 - 2s - loss: 0.1187 - accuracy: 0.9668 - val_loss: 0.1125 - val_accuracy: 0.9676 - 2s/epoch - 5ms/step\n",
      "Epoch 4/20\n",
      "469/469 - 2s - loss: 0.0919 - accuracy: 0.9744 - val_loss: 0.1007 - val_accuracy: 0.9713 - 2s/epoch - 5ms/step\n",
      "Epoch 5/20\n",
      "469/469 - 2s - loss: 0.0745 - accuracy: 0.9790 - val_loss: 0.0918 - val_accuracy: 0.9732 - 2s/epoch - 5ms/step\n",
      "Epoch 6/20\n",
      "469/469 - 2s - loss: 0.0613 - accuracy: 0.9826 - val_loss: 0.0859 - val_accuracy: 0.9741 - 2s/epoch - 5ms/step\n",
      "Epoch 7/20\n",
      "469/469 - 2s - loss: 0.0513 - accuracy: 0.9858 - val_loss: 0.0813 - val_accuracy: 0.9744 - 2s/epoch - 5ms/step\n",
      "Epoch 8/20\n",
      "469/469 - 2s - loss: 0.0430 - accuracy: 0.9886 - val_loss: 0.0786 - val_accuracy: 0.9756 - 2s/epoch - 5ms/step\n",
      "Epoch 9/20\n",
      "469/469 - 2s - loss: 0.0361 - accuracy: 0.9909 - val_loss: 0.0776 - val_accuracy: 0.9757 - 2s/epoch - 5ms/step\n",
      "Epoch 10/20\n",
      "469/469 - 2s - loss: 0.0304 - accuracy: 0.9927 - val_loss: 0.0763 - val_accuracy: 0.9764 - 2s/epoch - 5ms/step\n",
      "Epoch 11/20\n",
      "469/469 - 2s - loss: 0.0255 - accuracy: 0.9943 - val_loss: 0.0762 - val_accuracy: 0.9771 - 2s/epoch - 5ms/step\n",
      "Epoch 12/20\n",
      "469/469 - 2s - loss: 0.0214 - accuracy: 0.9957 - val_loss: 0.0760 - val_accuracy: 0.9769 - 2s/epoch - 5ms/step\n",
      "Epoch 13/20\n",
      "469/469 - 2s - loss: 0.0178 - accuracy: 0.9968 - val_loss: 0.0767 - val_accuracy: 0.9772 - 2s/epoch - 5ms/step\n",
      "Epoch 14/20\n",
      "469/469 - 2s - loss: 0.0149 - accuracy: 0.9976 - val_loss: 0.0776 - val_accuracy: 0.9772 - 2s/epoch - 5ms/step\n",
      "Epoch 15/20\n",
      "469/469 - 2s - loss: 0.0124 - accuracy: 0.9984 - val_loss: 0.0797 - val_accuracy: 0.9764 - 2s/epoch - 5ms/step\n",
      "Epoch 16/20\n",
      "469/469 - 2s - loss: 0.0103 - accuracy: 0.9988 - val_loss: 0.0846 - val_accuracy: 0.9752 - 2s/epoch - 5ms/step\n",
      "Epoch 17/20\n",
      "469/469 - 2s - loss: 0.0087 - accuracy: 0.9992 - val_loss: 0.0855 - val_accuracy: 0.9756 - 2s/epoch - 5ms/step\n",
      "Epoch 18/20\n",
      "469/469 - 2s - loss: 0.0074 - accuracy: 0.9993 - val_loss: 0.0911 - val_accuracy: 0.9748 - 2s/epoch - 5ms/step\n",
      "Epoch 19/20\n",
      "469/469 - 2s - loss: 0.0065 - accuracy: 0.9995 - val_loss: 0.0898 - val_accuracy: 0.9758 - 2s/epoch - 5ms/step\n",
      "Epoch 20/20\n",
      "469/469 - 2s - loss: 0.0060 - accuracy: 0.9995 - val_loss: 0.0932 - val_accuracy: 0.9763 - 2s/epoch - 5ms/step\n",
      "The training has finished.\n",
      "The accuracy of the model is 0.9995\n"
     ]
    }
   ],
   "source": [
    "print('The training has begun. Go for a coffee!!')\n",
    "\n",
    "history = model.fit(ds_train,\n",
    "                    validation_data=ds_test,\n",
    "                    epochs=20,\n",
    "                    callbacks=[tensorboard_cb],\n",
    "                    verbose=2)\n",
    "\n",
    "print('The training has finished.')\n",
    "print(f'The accuracy of the model is {round(history.history[\"accuracy\"][-1], 4)}')"
   ]
  },
  {
   "cell_type": "markdown",
   "metadata": {},
   "source": [
    "## Use the TensorFlow Profiler Model Training Performance"
   ]
  },
  {
   "cell_type": "code",
   "execution_count": 20,
   "metadata": {},
   "outputs": [
    {
     "name": "stdout",
     "output_type": "stream",
     "text": [
      "The tensorboard extension is already loaded. To reload it, use:\n",
      "  %reload_ext tensorboard\n"
     ]
    },
    {
     "data": {
      "text/plain": [
       "Reusing TensorBoard on port 6007 (pid 13680), started 0:03:19 ago. (Use '!kill 13680' to kill it.)"
      ]
     },
     "metadata": {},
     "output_type": "display_data"
    },
    {
     "data": {
      "text/html": [
       "\n",
       "      <iframe id=\"tensorboard-frame-e934ab8e9b307360\" width=\"100%\" height=\"800\" frameborder=\"0\">\n",
       "      </iframe>\n",
       "      <script>\n",
       "        (function() {\n",
       "          const frame = document.getElementById(\"tensorboard-frame-e934ab8e9b307360\");\n",
       "          const url = new URL(\"http://localhost\");\n",
       "          const port = 6007;\n",
       "          if (port) {\n",
       "            url.port = port;\n",
       "          }\n",
       "          frame.src = url;\n",
       "        })();\n",
       "      </script>\n",
       "    "
      ],
      "text/plain": [
       "<IPython.core.display.HTML object>"
      ]
     },
     "metadata": {},
     "output_type": "display_data"
    }
   ],
   "source": [
    "%load_ext tensorboard\n",
    "%tensorboard --logdir=logs"
   ]
  },
  {
   "cell_type": "code",
   "execution_count": null,
   "metadata": {},
   "outputs": [],
   "source": []
  }
 ],
 "metadata": {
  "interpreter": {
   "hash": "c6ba1b7cf6e8418139948d4f5b35e26443252c5696a8a4a7bc6c27d254786872"
  },
  "kernelspec": {
   "display_name": "Python 3.9.10 ('books-zhEizXov-py3.9')",
   "language": "python",
   "name": "python3"
  },
  "language_info": {
   "codemirror_mode": {
    "name": "ipython",
    "version": 3
   },
   "file_extension": ".py",
   "mimetype": "text/x-python",
   "name": "python",
   "nbconvert_exporter": "python",
   "pygments_lexer": "ipython3",
   "version": "3.9.10"
  },
  "orig_nbformat": 4
 },
 "nbformat": 4,
 "nbformat_minor": 2
}
