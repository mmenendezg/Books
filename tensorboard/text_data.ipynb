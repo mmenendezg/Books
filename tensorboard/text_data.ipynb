{
 "cells": [
  {
   "cell_type": "markdown",
   "metadata": {},
   "source": [
    "# Displaying Text Data in TensorBoard"
   ]
  },
  {
   "cell_type": "markdown",
   "metadata": {},
   "source": [
    "## Setup"
   ]
  },
  {
   "cell_type": "code",
   "execution_count": 1,
   "metadata": {},
   "outputs": [],
   "source": [
    "from datetime import datetime\n",
    "import json\n",
    "from packaging import version\n",
    "import tempfile\n",
    "\n",
    "import tensorflow as tf"
   ]
  },
  {
   "cell_type": "code",
   "execution_count": 2,
   "metadata": {},
   "outputs": [],
   "source": [
    "assert version.parse(tf.__version__).release[0] >= 2, \"This notebook requires TensorFlow 2.0 or above.\""
   ]
  },
  {
   "cell_type": "markdown",
   "metadata": {},
   "source": [
    "## Logging a Single Piece of Text"
   ]
  },
  {
   "cell_type": "code",
   "execution_count": 3,
   "metadata": {},
   "outputs": [],
   "source": [
    "# Clear any previous data for logs \n",
    "!rm -rf logs"
   ]
  },
  {
   "cell_type": "code",
   "execution_count": 5,
   "metadata": {},
   "outputs": [],
   "source": [
    "my_text = 'This is a test for TensorBoard 📈'\n",
    "\n",
    "logdir = 'logs/text_basics/' + datetime.now().strftime('%Y%m%d-%H%M%S')\n",
    "file_writer = tf.summary.create_file_writer(logdir)\n",
    "\n",
    "with file_writer.as_default():\n",
    "    tf.summary.text('first_text', my_text, step=0)\n"
   ]
  },
  {
   "cell_type": "markdown",
   "metadata": {},
   "source": [
    "## Organizing Multiple Text Streams"
   ]
  },
  {
   "cell_type": "code",
   "execution_count": 6,
   "metadata": {},
   "outputs": [],
   "source": [
    "logdir = 'logs/multiple_texts/' + datetime.now().strftime('%Y%m%d-%H%M%S')\n",
    "file_writer = tf.summary.create_file_writer(logdir)\n",
    "\n",
    "with file_writer.as_default():\n",
    "    with tf.name_scope('scope_1'):\n",
    "        for step in range(20):\n",
    "            tf.summary.text('a_stream_of_text', f'Hello from step {step}', step=step)\n",
    "            tf.summary.text('another_stream_of_test', f'This can be kept separate {step}', step=step)\n",
    "    with tf.name_scope('scope_2'):\n",
    "        tf.summary.text('just_from_step_0', 'This is important', step=0)"
   ]
  },
  {
   "cell_type": "markdown",
   "metadata": {},
   "source": [
    "## Markdown Interpretation"
   ]
  },
  {
   "cell_type": "code",
   "execution_count": 8,
   "metadata": {},
   "outputs": [],
   "source": [
    "logdir = 'logs/markdown' + datetime.now().strftime('%Y%m%d-%H%M%S')\n",
    "file_writer = tf.summary.create_file_writer(logdir)\n",
    "\n",
    "some_obj = {\n",
    "    'tfds_training_data' : {\n",
    "        'name' : 'Mnist',\n",
    "        'split' : 'train',\n",
    "        'shuffle_files' : 'True'\n",
    "    },\n",
    "    'keras_optimizer' : {\n",
    "        'name' : 'Adagrad',\n",
    "        'learning_rate' : '0.001',\n",
    "        'epsilon': 1e-7\n",
    "    },\n",
    "    'hardware' : 'Local GPU'\n",
    "}\n",
    "\n",
    "def pretty_json(hp):\n",
    "    json_hp = json.dumps(hp, indent=2)\n",
    "    return ''.join('\\t' + line for line in json_hp.splitlines(True))\n",
    "\n",
    "markdown_text = \"\"\"\n",
    "### Markdown Text\n",
    "\n",
    "TensorBoard supports basic markdown syntax, including:\n",
    "\n",
    "    preformatted code\n",
    "\n",
    "**bold text**\n",
    "\n",
    "|and|tables|\n",
    "|----|----|\n",
    "|among|others|\n",
    "\"\"\"\n",
    "\n",
    "with file_writer.as_default():\n",
    "    tf.summary.text('run_params', pretty_json(some_obj), step=0)\n",
    "    tf.summary.text('markdown', markdown_text, step=0)"
   ]
  },
  {
   "cell_type": "code",
   "execution_count": null,
   "metadata": {},
   "outputs": [],
   "source": []
  }
 ],
 "metadata": {
  "interpreter": {
   "hash": "c6ba1b7cf6e8418139948d4f5b35e26443252c5696a8a4a7bc6c27d254786872"
  },
  "kernelspec": {
   "display_name": "Python 3.9.10 ('books-zhEizXov-py3.9')",
   "language": "python",
   "name": "python3"
  },
  "language_info": {
   "codemirror_mode": {
    "name": "ipython",
    "version": 3
   },
   "file_extension": ".py",
   "mimetype": "text/x-python",
   "name": "python",
   "nbconvert_exporter": "python",
   "pygments_lexer": "ipython3",
   "version": "3.9.10"
  },
  "orig_nbformat": 4
 },
 "nbformat": 4,
 "nbformat_minor": 2
}
