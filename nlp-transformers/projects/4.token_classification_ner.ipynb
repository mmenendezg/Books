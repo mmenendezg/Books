{
 "cells": [
  {
   "cell_type": "markdown",
   "metadata": {},
   "source": [
    "# Token classification for pharmacological substances, compunds and proteins"
   ]
  },
  {
   "cell_type": "markdown",
   "metadata": {},
   "source": [
    "## Introduction"
   ]
  },
  {
   "cell_type": "markdown",
   "metadata": {},
   "source": [
    "Named Entity Recognition (NER) is a NLP problem that consists on classifying all the words in a sentence, assigning the corresponding label. This problem is also known as token classification. The complexity of the problem varies depending on the data we are using and how many labels we have to classify. \n",
    "\n",
    "For this notebook we will try to apply token classification to the [PharmaCoNER dataset](https://temu.bsc.es/pharmaconer/). This dataset contains the clinical records of patients, and the goal is to identify the different pharmacological substances, compounds and proteins in the different sequences. The content of the dataset is biomedical and medical literature that requires special preprocessing to be sure that we are conserving the context of the word and that the model is getting the right tokens when making a prediction.\n",
    "\n",
    "In order to solve this problem, the XLM-RoBERTa model will be fine-tuned on the dataset. The XLM-RoBERTa model has been trained on 100 languages. The latter is important because the dataset is in spanish, therefore we need a model capable of make predictions on spanish text. "
   ]
  },
  {
   "cell_type": "markdown",
   "metadata": {},
   "source": [
    "## Setup"
   ]
  },
  {
   "cell_type": "code",
   "execution_count": 1,
   "metadata": {},
   "outputs": [
    {
     "name": "stderr",
     "output_type": "stream",
     "text": [
      "/Users/mmenendezg/Developer/Books/.venv/lib/python3.11/site-packages/tqdm/auto.py:21: TqdmWarning: IProgress not found. Please update jupyter and ipywidgets. See https://ipywidgets.readthedocs.io/en/stable/user_install.html\n",
      "  from .autonotebook import tqdm as notebook_tqdm\n"
     ]
    }
   ],
   "source": [
    "import pandas as pd\n",
    "import numpy as np\n",
    "import matplotlib.pyplot as plt\n",
    "\n",
    "# Seqeval\n",
    "from seqeval.metrics import f1_score\n",
    "\n",
    "# Scikit-Learn\n",
    "from sklearn.metrics import ConfusionMatrixDisplay, confusion_matrix\n",
    "\n",
    "# PyTorch\n",
    "import torch\n",
    "from torch.nn.functional import cross_entropy\n",
    "\n",
    "# Hugging Face\n",
    "from datasets import load_dataset\n",
    "\n",
    "from transformers import (\n",
    "    AutoTokenizer,\n",
    "    XLMRobertaForTokenClassification,\n",
    "    TrainingArguments,\n",
    "    DataCollatorForTokenClassification,\n",
    "    Trainer\n",
    ")"
   ]
  },
  {
   "cell_type": "markdown",
   "metadata": {},
   "source": [
    "As established above, the model we will use is XLM-RoBERTa base. However, as tokenizer we will use the on created by the authors of the dataset. There are two reasons for this:\n",
    "- 1. It has been trained to tokenize medical and biomedical corpus.\n",
    "- 2. It works with text in spanish."
   ]
  },
  {
   "cell_type": "code",
   "execution_count": 2,
   "metadata": {},
   "outputs": [],
   "source": [
    "DATASET_URL = \"PlanTL-GOB-ES/pharmaconer\"\n",
    "MODEL_NAME = \"xlm-roberta-base\"\n",
    "TOKENIZER_NAME = \"PlanTL-GOB-ES/roberta-base-biomedical-es\"\n",
    "\n",
    "# Define the device to train the model\n",
    "if torch.has_mps:\n",
    "    DEVICE = \"mps\" # For M1, M2 processors\n",
    "elif torch.has_cuda:\n",
    "    DEVICE = \"cuda\"\n",
    "else:\n",
    "    DEVICE = \"cpu\"\n",
    "\n",
    "BATCH_SIZE = 8"
   ]
  },
  {
   "cell_type": "markdown",
   "metadata": {},
   "source": [
    "## The Dataset"
   ]
  },
  {
   "cell_type": "markdown",
   "metadata": {},
   "source": [
    "Let's first load the dataset and see the labels of the tokens:"
   ]
  },
  {
   "cell_type": "code",
   "execution_count": 3,
   "metadata": {},
   "outputs": [
    {
     "name": "stdout",
     "output_type": "stream",
     "text": [
      "ClassLabel(names=['O', 'B-NO_NORMALIZABLES', 'B-NORMALIZABLES', 'B-PROTEINAS', 'B-UNCLEAR', 'I-NO_NORMALIZABLES', 'I-NORMALIZABLES', 'I-PROTEINAS', 'I-UNCLEAR'], id=None)\n"
     ]
    }
   ],
   "source": [
    "dataset = load_dataset(DATASET_URL)\n",
    "TAGS = dataset[\"train\"].features[\"ner_tags\"].feature\n",
    "\n",
    "print(TAGS)"
   ]
  },
  {
   "cell_type": "markdown",
   "metadata": {},
   "source": [
    "The labels we hava are:\n",
    "\n",
    "- `Normalizables`: Chemicals that can be manually normalized to a unique concept identifier.\n",
    "- `No_Normalizables`: Chemicals that could not be normalized manually to a unique concept identifier.\n",
    "- `Proteinas`: Proteins, genes, peptides, peptide hormones and antibodies.\n",
    "- `Unclear`: General substances with clinical and biomedical relevance."
   ]
  },
  {
   "cell_type": "markdown",
   "metadata": {},
   "source": [
    "Let's see how many examples we have per split:"
   ]
  },
  {
   "cell_type": "code",
   "execution_count": 4,
   "metadata": {},
   "outputs": [],
   "source": [
    "def get_examples_per_tag(dataset):\n",
    "    list_tags = [tag for tags in dataset[\"ner_tags\"] for tag in tags]\n",
    "    tags = pd.Series(list_tags).value_counts()\n",
    "    return list(tags)"
   ]
  },
  {
   "cell_type": "code",
   "execution_count": 5,
   "metadata": {},
   "outputs": [
    {
     "data": {
      "text/plain": [
       "[Text(0, 0, '8129'), Text(0, 0, '3787'), Text(0, 0, '3952')]"
      ]
     },
     "execution_count": 5,
     "metadata": {},
     "output_type": "execute_result"
    },
    {
     "data": {
      "image/png": "[encoded data removed]",
      "text/plain": [
       "<Figure size 640x480 with 1 Axes>"
      ]
     },
     "metadata": {},
     "output_type": "display_data"
    }
   ],
   "source": [
    "examples_per_split = {\n",
    "    \"Train\": dataset[\"train\"].num_rows,\n",
    "    \"Validation\": dataset[\"validation\"].num_rows,\n",
    "    \"Test\": dataset[\"test\"].num_rows,\n",
    "}\n",
    "\n",
    "ax = pd.DataFrame(examples_per_split, index=[\"Examples\"]).T.plot.barh(\n",
    "    title=\"Examples per Split\", xlabel=\"Examples\", ylabel=\"NER Tags\", colormap=\"viridis\"\n",
    ")\n",
    "ax.bar_label(ax.containers[-1])"
   ]
  },
  {
   "cell_type": "markdown",
   "metadata": {},
   "source": [
    "The train split contains 8129 sequences, while the test and validation splits contain almost the same amount of examples. But this gives us just a part of the picture. We need to know what is the distribution of the lengths of these sequences:"
   ]
  },
  {
   "cell_type": "code",
   "execution_count": 7,
   "metadata": {},
   "outputs": [
    {
     "data": {
      "text/plain": [
       "[198569, 2282, 1392, 486, 314, 88, 24, 13, 3]"
      ]
     },
     "execution_count": 7,
     "metadata": {},
     "output_type": "execute_result"
    }
   ],
   "source": [
    "list_tags = [tag for tags in dataset[\"train\"][\"ner_tags\"] for tag in tags]\n",
    "tags = pd.Series(list_tags).value_counts()\n",
    "list(tags)"
   ]
  },
  {
   "cell_type": "code",
   "execution_count": 8,
   "metadata": {},
   "outputs": [],
   "source": [
    "tokens_length = [len(tokens) for tokens in dataset[\"train\"][\"tokens\"]]\n",
    "\n",
    "len_sequnces = {\n",
    "    \"Train\": [len(tokens) for tokens in dataset[\"train\"][\"tokens\"]],\n",
    "    \"Validation\": [len(tokens) for tokens in dataset[\"validation\"][\"tokens\"]],\n",
    "    \"Test\": [len(tokens) for tokens in dataset[\"test\"][\"tokens\"]],\n",
    "}"
   ]
  },
  {
   "cell_type": "code",
   "execution_count": 9,
   "metadata": {},
   "outputs": [
    {
     "data": {
      "image/png": "[encoded data removed]",
      "text/plain": [
       "<Figure size 640x480 with 3 Axes>"
      ]
     },
     "metadata": {},
     "output_type": "display_data"
    }
   ],
   "source": [
    "fig, ax = plt.subplots(1, 3, sharey=True)\n",
    "fig.suptitle(\"Length of sequences in different splits\")\n",
    "\n",
    "for idx, split in enumerate([\"Train\", \"Validation\", \"Test\"]):\n",
    "    ax[idx].violinplot(len_sequnces[split], showmeans=True)\n",
    "    ax[idx].set_xlabel(split)\n",
    "    for key, spine in ax[idx].spines.items():\n",
    "        spine.set_visible(False)\n",
    "    ax[idx].tick_params(\n",
    "        axis=\"both\", which=\"both\", bottom=False, left=False, labelbottom=False\n",
    "    )\n",
    "\n",
    "plt.subplots_adjust(wspace=0)\n",
    "plt.show()"
   ]
  },
  {
   "cell_type": "markdown",
   "metadata": {},
   "source": [
    "The average lenght of the sequences is around 30 tokens for the three splits. There is an outlier in the train split that has almost 300 tokens. This may affect the training if we do not choose the right model. In this case the XLM-RoBERTa can handle up to 500 tokens as input, and the largest sequence should not pose a challenge for this project.\n",
    "\n",
    "The top 10 longest sequences may give us a perspective of how many long sequences we have:"
   ]
  },
  {
   "cell_type": "code",
   "execution_count": 41,
   "metadata": {},
   "outputs": [
    {
     "name": "stdout",
     "output_type": "stream",
     "text": [
      "These are the lengths of the 10 longest sequences:\n",
      "\t[124, 128, 129, 132, 135, 139, 147, 162, 184, 292]\n"
     ]
    }
   ],
   "source": [
    "print(\n",
    "    f\"These are the lengths of the 10 longest sequences:\\n\\t{sorted(len_sequnces['Train'])[-10:]}\"\n",
    ")"
   ]
  },
  {
   "cell_type": "markdown",
   "metadata": {},
   "source": [
    "Only one sequence is over 200 tokens.\n",
    "\n",
    "Finally, we may want to know if the labels are balanced. This will help us decide which metrics we will use:"
   ]
  },
  {
   "cell_type": "code",
   "execution_count": 6,
   "metadata": {},
   "outputs": [
    {
     "data": {
      "text/plain": [
       "[Text(0, 0, '4347'),\n",
       " Text(0, 0, '2963'),\n",
       " Text(0, 0, '1120'),\n",
       " Text(0, 0, '634'),\n",
       " Text(0, 0, '166'),\n",
       " Text(0, 0, '50'),\n",
       " Text(0, 0, '25'),\n",
       " Text(0, 0, '7')]"
      ]
     },
     "execution_count": 6,
     "metadata": {},
     "output_type": "execute_result"
    },
    {
     "data": {
      "image/png": "[encoded data removed]",
      "text/plain": [
       "<Figure size 640x480 with 1 Axes>"
      ]
     },
     "metadata": {},
     "output_type": "display_data"
    }
   ],
   "source": [
    "tags_per_class = {\n",
    "    \"Train\": get_examples_per_tag(dataset[\"train\"])[1:],\n",
    "    \"Validation\": get_examples_per_tag(dataset[\"validation\"])[1:],\n",
    "    \"Test\": get_examples_per_tag(dataset[\"test\"])[1:],\n",
    "}\n",
    "\n",
    "ax = pd.DataFrame(tags_per_class, index=TAGS.names[1:]).plot.barh(\n",
    "    title=\"Examples per Split\",\n",
    "    xlabel=\"Examples\",\n",
    "    ylabel=\"NER Tags\",\n",
    "    stacked=True,\n",
    "    colormap=\"viridis\",\n",
    ")\n",
    "ax.bar_label(ax.containers[-1])"
   ]
  },
  {
   "cell_type": "markdown",
   "metadata": {},
   "source": [
    "The tags are unbalanced, and using accuracy may not be suitable. F1-Score, Recall and Precision will be more suitable "
   ]
  },
  {
   "cell_type": "markdown",
   "metadata": {},
   "source": [
    "Exploring the tagging of the tokens may help us understand how the dataset is structured:"
   ]
  },
  {
   "cell_type": "code",
   "execution_count": 11,
   "metadata": {},
   "outputs": [
    {
     "name": "stdout",
     "output_type": "stream",
     "text": [
      "id: 64\n",
      "tokens: ['Inicia', 'esquema', 'de', 'quimioterapia', 'con', 'vincristina', ',', 'dactinomicina', 'y', 'doxorubicina', '.']\n",
      "ner_tags: [0, 0, 0, 0, 0, 2, 0, 2, 0, 2, 0]\n"
     ]
    }
   ],
   "source": [
    "example = dataset[\"train\"][64]\n",
    "for key, value in example.items():\n",
    "    print(f\"{key}: {value}\")"
   ]
  },
  {
   "cell_type": "markdown",
   "metadata": {},
   "source": [
    "This gives us the raw tagging, but mapping the labels from index to string will help to have a better understanding of the tagging:"
   ]
  },
  {
   "cell_type": "code",
   "execution_count": 12,
   "metadata": {},
   "outputs": [],
   "source": [
    "def create_tag_token(batch):\n",
    "    return {\"ner_tag_name\": [TAGS.int2str(idx) for idx in batch[\"ner_tags\"]]}"
   ]
  },
  {
   "cell_type": "code",
   "execution_count": 13,
   "metadata": {},
   "outputs": [],
   "source": [
    "tags_ds = dataset.map(create_tag_token)"
   ]
  },
  {
   "cell_type": "code",
   "execution_count": 14,
   "metadata": {},
   "outputs": [
    {
     "data": {
      "text/html": [
       "<div>\n",
       "<style scoped>\n",
       "    .dataframe tbody tr th:only-of-type {\n",
       "        vertical-align: middle;\n",
       "    }\n",
       "\n",
       "    .dataframe tbody tr th {\n",
       "        vertical-align: top;\n",
       "    }\n",
       "\n",
       "    .dataframe thead th {\n",
       "        text-align: right;\n",
       "    }\n",
       "</style>\n",
       "<table border=\"1\" class=\"dataframe\">\n",
       "  <thead>\n",
       "    <tr style=\"text-align: right;\">\n",
       "      <th></th>\n",
       "      <th>0</th>\n",
       "      <th>1</th>\n",
       "      <th>2</th>\n",
       "      <th>3</th>\n",
       "      <th>4</th>\n",
       "      <th>5</th>\n",
       "      <th>6</th>\n",
       "      <th>7</th>\n",
       "      <th>8</th>\n",
       "      <th>9</th>\n",
       "      <th>10</th>\n",
       "    </tr>\n",
       "  </thead>\n",
       "  <tbody>\n",
       "    <tr>\n",
       "      <th>Tokens</th>\n",
       "      <td>Inicia</td>\n",
       "      <td>esquema</td>\n",
       "      <td>de</td>\n",
       "      <td>quimioterapia</td>\n",
       "      <td>con</td>\n",
       "      <td>vincristina</td>\n",
       "      <td>,</td>\n",
       "      <td>dactinomicina</td>\n",
       "      <td>y</td>\n",
       "      <td>doxorubicina</td>\n",
       "      <td>.</td>\n",
       "    </tr>\n",
       "    <tr>\n",
       "      <th>NER Tag</th>\n",
       "      <td>O</td>\n",
       "      <td>O</td>\n",
       "      <td>O</td>\n",
       "      <td>O</td>\n",
       "      <td>O</td>\n",
       "      <td>B-NORMALIZABLES</td>\n",
       "      <td>O</td>\n",
       "      <td>B-NORMALIZABLES</td>\n",
       "      <td>O</td>\n",
       "      <td>B-NORMALIZABLES</td>\n",
       "      <td>O</td>\n",
       "    </tr>\n",
       "  </tbody>\n",
       "</table>\n",
       "</div>"
      ],
      "text/plain": [
       "             0        1   2              3    4                5  6   \\\n",
       "Tokens   Inicia  esquema  de  quimioterapia  con      vincristina  ,   \n",
       "NER Tag       O        O   O              O    O  B-NORMALIZABLES  O   \n",
       "\n",
       "                      7  8                9  10  \n",
       "Tokens     dactinomicina  y     doxorubicina  .  \n",
       "NER Tag  B-NORMALIZABLES  O  B-NORMALIZABLES  O  "
      ]
     },
     "execution_count": 14,
     "metadata": {},
     "output_type": "execute_result"
    }
   ],
   "source": [
    "example = tags_ds[\"train\"][64]\n",
    "pd.DataFrame([example[\"tokens\"], example[\"ner_tag_name\"]], [\"Tokens\", \"NER Tag\"])"
   ]
  },
  {
   "cell_type": "markdown",
   "metadata": {},
   "source": [
    "## Tokenization"
   ]
  },
  {
   "cell_type": "markdown",
   "metadata": {},
   "source": [
    "We will use the `roberta-base-biomedical-es` to tokenize the sequences. This is specialized on medical and biomedical text in spanish:"
   ]
  },
  {
   "cell_type": "code",
   "execution_count": 15,
   "metadata": {},
   "outputs": [
    {
     "name": "stderr",
     "output_type": "stream",
     "text": [
      "Downloading (…)okenizer_config.json: 100%|██████████| 1.21k/1.21k [00:00<00:00, 3.65MB/s]\n",
      "Downloading (…)lve/main/config.json: 100%|██████████| 613/613 [00:00<00:00, 5.90MB/s]\n",
      "Downloading (…)olve/main/vocab.json: 100%|██████████| 1.22M/1.22M [00:00<00:00, 7.66MB/s]\n",
      "Downloading (…)olve/main/merges.txt: 100%|██████████| 542k/542k [00:00<00:00, 5.61MB/s]\n",
      "Downloading (…)cial_tokens_map.json: 100%|██████████| 772/772 [00:00<00:00, 8.22MB/s]\n"
     ]
    }
   ],
   "source": [
    "tokenizer = AutoTokenizer.from_pretrained(TOKENIZER_NAME)"
   ]
  },
  {
   "cell_type": "markdown",
   "metadata": {},
   "source": [
    "The tokenizer uses `Byte-Pair Encoding`, as in the original RoBERTa model."
   ]
  },
  {
   "cell_type": "code",
   "execution_count": 16,
   "metadata": {},
   "outputs": [
    {
     "data": {
      "text/plain": [
       "['<s>',\n",
       " 'ĠEsta',\n",
       " 'Ġfrase',\n",
       " 'Ġes',\n",
       " 'Ġpara',\n",
       " 'Ġhacer',\n",
       " 'Ġuna',\n",
       " 'Ġprueba',\n",
       " 'ĠfÃ¡cil',\n",
       " '.',\n",
       " '</s>']"
      ]
     },
     "execution_count": 16,
     "metadata": {},
     "output_type": "execute_result"
    }
   ],
   "source": [
    "phrase = \"Esta frase es para hacer una prueba fácil.\"\n",
    "tokenizer(phrase).tokens()"
   ]
  },
  {
   "cell_type": "markdown",
   "metadata": {},
   "source": [
    "Let's create the 2 dictionaries to map between tags and indexes:"
   ]
  },
  {
   "cell_type": "code",
   "execution_count": 17,
   "metadata": {},
   "outputs": [],
   "source": [
    "index2tag = {idx: tag for idx, tag in enumerate(TAGS.names)}\n",
    "tag2index = {tag: idx for idx, tag in enumerate(TAGS.names)}"
   ]
  },
  {
   "cell_type": "code",
   "execution_count": 18,
   "metadata": {},
   "outputs": [],
   "source": [
    "tokenized_tokens = tokenizer(dataset[\"train\"][64][\"tokens\"], is_split_into_words=True)\n",
    "tokens = tokenizer.convert_ids_to_tokens(tokenized_tokens[\"input_ids\"])"
   ]
  },
  {
   "cell_type": "code",
   "execution_count": 19,
   "metadata": {},
   "outputs": [
    {
     "data": {
      "text/html": [
       "<div>\n",
       "<style scoped>\n",
       "    .dataframe tbody tr th:only-of-type {\n",
       "        vertical-align: middle;\n",
       "    }\n",
       "\n",
       "    .dataframe tbody tr th {\n",
       "        vertical-align: top;\n",
       "    }\n",
       "\n",
       "    .dataframe thead th {\n",
       "        text-align: right;\n",
       "    }\n",
       "</style>\n",
       "<table border=\"1\" class=\"dataframe\">\n",
       "  <thead>\n",
       "    <tr style=\"text-align: right;\">\n",
       "      <th></th>\n",
       "      <th>0</th>\n",
       "      <th>1</th>\n",
       "      <th>2</th>\n",
       "      <th>3</th>\n",
       "      <th>4</th>\n",
       "      <th>5</th>\n",
       "      <th>6</th>\n",
       "      <th>7</th>\n",
       "      <th>8</th>\n",
       "      <th>9</th>\n",
       "      <th>10</th>\n",
       "      <th>11</th>\n",
       "      <th>12</th>\n",
       "      <th>13</th>\n",
       "      <th>14</th>\n",
       "      <th>15</th>\n",
       "      <th>16</th>\n",
       "      <th>17</th>\n",
       "    </tr>\n",
       "  </thead>\n",
       "  <tbody>\n",
       "    <tr>\n",
       "      <th>Tokens</th>\n",
       "      <td>&lt;s&gt;</td>\n",
       "      <td>ĠInicia</td>\n",
       "      <td>Ġesquema</td>\n",
       "      <td>Ġde</td>\n",
       "      <td>Ġquimioterapia</td>\n",
       "      <td>Ġcon</td>\n",
       "      <td>Ġvin</td>\n",
       "      <td>c</td>\n",
       "      <td>ristina</td>\n",
       "      <td>Ġ,</td>\n",
       "      <td>Ġdac</td>\n",
       "      <td>tin</td>\n",
       "      <td>omicina</td>\n",
       "      <td>Ġy</td>\n",
       "      <td>Ġdoxor</td>\n",
       "      <td>ubicina</td>\n",
       "      <td>Ġ.</td>\n",
       "      <td>&lt;/s&gt;</td>\n",
       "    </tr>\n",
       "    <tr>\n",
       "      <th>Word IDs</th>\n",
       "      <td>None</td>\n",
       "      <td>0</td>\n",
       "      <td>1</td>\n",
       "      <td>2</td>\n",
       "      <td>3</td>\n",
       "      <td>4</td>\n",
       "      <td>5</td>\n",
       "      <td>5</td>\n",
       "      <td>5</td>\n",
       "      <td>6</td>\n",
       "      <td>7</td>\n",
       "      <td>7</td>\n",
       "      <td>7</td>\n",
       "      <td>8</td>\n",
       "      <td>9</td>\n",
       "      <td>9</td>\n",
       "      <td>10</td>\n",
       "      <td>None</td>\n",
       "    </tr>\n",
       "  </tbody>\n",
       "</table>\n",
       "</div>"
      ],
      "text/plain": [
       "            0        1         2    3               4     5     6  7   \\\n",
       "Tokens     <s>  ĠInicia  Ġesquema  Ġde  Ġquimioterapia  Ġcon  Ġvin  c   \n",
       "Word IDs  None        0         1    2               3     4     5  5   \n",
       "\n",
       "               8   9     10   11       12  13      14       15  16    17  \n",
       "Tokens    ristina  Ġ,  Ġdac  tin  omicina  Ġy  Ġdoxor  ubicina  Ġ.  </s>  \n",
       "Word IDs        5   6     7    7        7   8       9        9  10  None  "
      ]
     },
     "execution_count": 19,
     "metadata": {},
     "output_type": "execute_result"
    }
   ],
   "source": [
    "word_ids = tokenized_tokens.word_ids()\n",
    "pd.DataFrame([tokens, word_ids], index=[\"Tokens\", \"Word IDs\"])"
   ]
  },
  {
   "cell_type": "markdown",
   "metadata": {},
   "source": [
    "We will use the same approach that the authors of the BERT paper followed, that is to use only the first token of each word, and ignore the rest of the tokens. For this, we will mask these additional subword tokens. The value used for this label will be `-100`. Reason? Well, the loss function `torch.nn.CrossEntropy` has an attribute `ignore_index=-100`. We could custom this value, but we will keep it as default."
   ]
  },
  {
   "cell_type": "code",
   "execution_count": 20,
   "metadata": {},
   "outputs": [],
   "source": [
    "def tokenize_dataset(batch):\n",
    "    tokenized_inputs = tokenizer(\n",
    "        batch[\"tokens\"], is_split_into_words=True, truncation=True\n",
    "    )\n",
    "\n",
    "    labels = []\n",
    "    for idx, label in enumerate(batch[\"ner_tags\"]):\n",
    "        word_ids = tokenized_inputs.word_ids(batch_index=idx)\n",
    "        previous_word_idx = None\n",
    "        label_ids = []\n",
    "        for word_idx in word_ids:\n",
    "            # We validate if it is a new word or a new token of the same word\n",
    "            if word_idx is None or word_idx == previous_word_idx:\n",
    "                label_ids.append(-100)\n",
    "            else:\n",
    "                label_ids.append(label[word_idx])\n",
    "            previous_word_idx = word_idx\n",
    "        labels.append(label_ids)\n",
    "    tokenized_inputs[\"labels\"] = labels\n",
    "    return tokenized_inputs\n",
    "\n",
    "\n",
    "def encode_dataset(dataset):\n",
    "    columns = [\"id\", \"tokens\", \"ner_tags\"]\n",
    "    return dataset.map(tokenize_dataset, batched=True, remove_columns=columns)"
   ]
  },
  {
   "cell_type": "code",
   "execution_count": 21,
   "metadata": {},
   "outputs": [
    {
     "name": "stderr",
     "output_type": "stream",
     "text": [
      "Map: 100%|██████████| 8129/8129 [00:00<00:00, 15106.21 examples/s]\n",
      "Map: 100%|██████████| 3787/3787 [00:00<00:00, 19875.43 examples/s]\n",
      "Map: 100%|██████████| 3952/3952 [00:00<00:00, 19739.48 examples/s]\n"
     ]
    }
   ],
   "source": [
    "train_ds = encode_dataset(dataset[\"train\"])\n",
    "valid_ds = encode_dataset(dataset[\"validation\"])\n",
    "test_ds = encode_dataset(dataset[\"test\"])"
   ]
  },
  {
   "cell_type": "markdown",
   "metadata": {},
   "source": [
    "We have now the dataset splitted, tokenized and ready for the training. This is how our dataset looks like:"
   ]
  },
  {
   "cell_type": "code",
   "execution_count": 45,
   "metadata": {},
   "outputs": [
    {
     "data": {
      "text/html": [
       "<div>\n",
       "<style scoped>\n",
       "    .dataframe tbody tr th:only-of-type {\n",
       "        vertical-align: middle;\n",
       "    }\n",
       "\n",
       "    .dataframe tbody tr th {\n",
       "        vertical-align: top;\n",
       "    }\n",
       "\n",
       "    .dataframe thead th {\n",
       "        text-align: right;\n",
       "    }\n",
       "</style>\n",
       "<table border=\"1\" class=\"dataframe\">\n",
       "  <thead>\n",
       "    <tr style=\"text-align: right;\">\n",
       "      <th></th>\n",
       "      <th>0</th>\n",
       "      <th>1</th>\n",
       "      <th>2</th>\n",
       "      <th>3</th>\n",
       "      <th>4</th>\n",
       "      <th>5</th>\n",
       "      <th>6</th>\n",
       "      <th>7</th>\n",
       "      <th>8</th>\n",
       "      <th>9</th>\n",
       "      <th>10</th>\n",
       "      <th>11</th>\n",
       "      <th>12</th>\n",
       "      <th>13</th>\n",
       "      <th>14</th>\n",
       "    </tr>\n",
       "  </thead>\n",
       "  <tbody>\n",
       "    <tr>\n",
       "      <th>Input IDs</th>\n",
       "      <td>0</td>\n",
       "      <td>9910</td>\n",
       "      <td>321</td>\n",
       "      <td>1156</td>\n",
       "      <td>8516</td>\n",
       "      <td>4987</td>\n",
       "      <td>47469</td>\n",
       "      <td>18521</td>\n",
       "      <td>9688</td>\n",
       "      <td>6987</td>\n",
       "      <td>262</td>\n",
       "      <td>3198</td>\n",
       "      <td>7934</td>\n",
       "      <td>28923</td>\n",
       "      <td>2</td>\n",
       "    </tr>\n",
       "    <tr>\n",
       "      <th>Attention Mask</th>\n",
       "      <td>1</td>\n",
       "      <td>1</td>\n",
       "      <td>1</td>\n",
       "      <td>1</td>\n",
       "      <td>1</td>\n",
       "      <td>1</td>\n",
       "      <td>1</td>\n",
       "      <td>1</td>\n",
       "      <td>1</td>\n",
       "      <td>1</td>\n",
       "      <td>1</td>\n",
       "      <td>1</td>\n",
       "      <td>1</td>\n",
       "      <td>1</td>\n",
       "      <td>1</td>\n",
       "    </tr>\n",
       "    <tr>\n",
       "      <th>Labels</th>\n",
       "      <td>-100</td>\n",
       "      <td>0</td>\n",
       "      <td>-100</td>\n",
       "      <td>-100</td>\n",
       "      <td>0</td>\n",
       "      <td>0</td>\n",
       "      <td>0</td>\n",
       "      <td>0</td>\n",
       "      <td>0</td>\n",
       "      <td>0</td>\n",
       "      <td>0</td>\n",
       "      <td>0</td>\n",
       "      <td>0</td>\n",
       "      <td>0</td>\n",
       "      <td>-100</td>\n",
       "    </tr>\n",
       "  </tbody>\n",
       "</table>\n",
       "</div>"
      ],
      "text/plain": [
       "                 0     1    2     3     4     5      6      7     8     9   \\\n",
       "Input IDs         0  9910  321  1156  8516  4987  47469  18521  9688  6987   \n",
       "Attention Mask    1     1    1     1     1     1      1      1     1     1   \n",
       "Labels         -100     0 -100  -100     0     0      0      0     0     0   \n",
       "\n",
       "                 10    11    12     13   14  \n",
       "Input IDs       262  3198  7934  28923    2  \n",
       "Attention Mask    1     1     1      1    1  \n",
       "Labels            0     0     0      0 -100  "
      ]
     },
     "execution_count": 45,
     "metadata": {},
     "output_type": "execute_result"
    }
   ],
   "source": [
    "ex_idx = 56\n",
    "pd.DataFrame(\n",
    "    [train_ds[ex_idx][\"input_ids\"], train_ds[ex_idx][\"attention_mask\"], train_ds[ex_idx][\"labels\"]],\n",
    "    index=[\"Input IDs\", \"Attention Mask\", \"Labels\"],\n",
    ")"
   ]
  },
  {
   "cell_type": "markdown",
   "metadata": {},
   "source": [
    "As we can see, for words with multiple tokens we have only considered the first token, the rest (if many) have the label `-100` assigned."
   ]
  },
  {
   "cell_type": "markdown",
   "metadata": {},
   "source": [
    "## Create the Model"
   ]
  },
  {
   "cell_type": "markdown",
   "metadata": {},
   "source": [
    "For this problem, we will use the XLM-RoBERTa model, since it is a cross-language model that has been trained on 100 different languages, spanish included. Additionally, the base model accepts up to 512 tokens in the input sequences. This matches the requirements we have so far. The longest sequence in the training model has 292 words, it should be under 512 after tokenization. "
   ]
  },
  {
   "cell_type": "markdown",
   "metadata": {},
   "source": [
    "Let's instantiate the model and set the number of labels of the classification head to the same number of classes we have in the TAGS:"
   ]
  },
  {
   "cell_type": "code",
   "execution_count": 23,
   "metadata": {},
   "outputs": [
    {
     "name": "stderr",
     "output_type": "stream",
     "text": [
      "Some weights of XLMRobertaForTokenClassification were not initialized from the model checkpoint at xlm-roberta-base and are newly initialized: ['classifier.weight', 'classifier.bias']\n",
      "You should probably TRAIN this model on a down-stream task to be able to use it for predictions and inference.\n"
     ]
    }
   ],
   "source": [
    "xlmr_model = XLMRobertaForTokenClassification.from_pretrained(\n",
    "    MODEL_NAME, num_labels=TAGS.num_classes\n",
    ").to(DEVICE)"
   ]
  },
  {
   "cell_type": "markdown",
   "metadata": {},
   "source": [
    "### How to measure the model's performance?"
   ]
  },
  {
   "cell_type": "markdown",
   "metadata": {},
   "source": [
    "Since the model performs a classification, we can use metrics such as precision, recall and f1-score. The difference is that for NER we need all the words of a sequence to be correctly classified. \n",
    "\n",
    "This complicates our job, but luckily we have the library `seqeval` designed with this in mind. \n",
    "\n",
    "`seqeval` expects, however, the predictions to be lists of lists. Therefore a new function is required to pack the predictions of the model to a format that `seqeval` accepts."
   ]
  },
  {
   "cell_type": "code",
   "execution_count": 24,
   "metadata": {},
   "outputs": [],
   "source": [
    "def align_predictions(predictions, label_ids):\n",
    "    preds = np.argmax(predictions, axis=2)\n",
    "    batch_size, len_seq = preds.shape\n",
    "    labels_list, preds_list = [], []\n",
    "\n",
    "    for batch_idx in range(batch_size):\n",
    "        example_labels, example_preds = [], []\n",
    "        for seq_idx in range(len_seq):\n",
    "            # Let's ignore the labels = -100\n",
    "            if label_ids[batch_idx, seq_idx] != -100:\n",
    "                example_labels.append(index2tag[label_ids[batch_idx, seq_idx]])\n",
    "                example_preds.append(index2tag[label_ids[batch_idx, seq_idx]])\n",
    "\n",
    "        labels_list.append(example_labels)\n",
    "        preds_list.append(example_preds)\n",
    "\n",
    "    return preds_list, labels_list"
   ]
  },
  {
   "cell_type": "markdown",
   "metadata": {},
   "source": [
    "## Fine-Tune The Model"
   ]
  },
  {
   "cell_type": "markdown",
   "metadata": {},
   "source": [
    "It is important to first define the training arguments to pass to the trainer:"
   ]
  },
  {
   "cell_type": "code",
   "execution_count": 25,
   "metadata": {},
   "outputs": [],
   "source": [
    "num_epochs = 5\n",
    "logging_steps = len(train_ds) // BATCH_SIZE\n",
    "model_name = f\"{MODEL_NAME}-pharmaconer\""
   ]
  },
  {
   "cell_type": "code",
   "execution_count": 26,
   "metadata": {},
   "outputs": [],
   "source": [
    "training_args = TrainingArguments(\n",
    "    output_dir=model_name,\n",
    "    log_level=\"error\",\n",
    "    num_train_epochs=num_epochs,\n",
    "    per_device_train_batch_size=BATCH_SIZE,\n",
    "    per_device_eval_batch_size=BATCH_SIZE,\n",
    "    evaluation_strategy=\"epoch\",\n",
    "    weight_decay=0.01,\n",
    "    disable_tqdm=False,\n",
    "    logging_steps=logging_steps,\n",
    "    push_to_hub=True\n",
    ")"
   ]
  },
  {
   "cell_type": "markdown",
   "metadata": {},
   "source": [
    "We have set up in the training arguments that we want the model to be pushed to the hub once the training has finished, therefore we need to login to the Hugging Face Hub:"
   ]
  },
  {
   "cell_type": "code",
   "execution_count": 27,
   "metadata": {},
   "outputs": [
    {
     "name": "stdout",
     "output_type": "stream",
     "text": [
      "huggingface/tokenizers: The current process just got forked, after parallelism has already been used. Disabling parallelism to avoid deadlocks...\n",
      "To disable this warning, you can either:\n",
      "\t- Avoid using `tokenizers` before the fork if possible\n",
      "\t- Explicitly set the environment variable TOKENIZERS_PARALLELISM=(true | false)\n",
      "Token will not been saved to git credential helper. Pass `add_to_git_credential=True` if you want to set the git credential as well.\n",
      "Token is valid (permission: write).\n",
      "Your token has been saved to /Users/mmenendezg/.cache/huggingface/token\n",
      "Login successful\n"
     ]
    }
   ],
   "source": [
    "!huggingface-cli login --token $HUGGINGFACE_TOKEN"
   ]
  },
  {
   "cell_type": "markdown",
   "metadata": {},
   "source": [
    "We need to create a function to tell the Trainer how to compute the metrics on the validation set:"
   ]
  },
  {
   "cell_type": "code",
   "execution_count": 28,
   "metadata": {},
   "outputs": [],
   "source": [
    "def compute_metrics(predictions):\n",
    "    y_pred, y_true = align_predictions(predictions.predictions, predictions.label_ids)\n",
    "    return {\"f1_score\": f1_score(y_true, y_pred)}"
   ]
  },
  {
   "cell_type": "markdown",
   "metadata": {},
   "source": [
    "Finally, it is important to define a data collator. We will use the one provided by Transformers:"
   ]
  },
  {
   "cell_type": "code",
   "execution_count": 29,
   "metadata": {},
   "outputs": [],
   "source": [
    "data_collator = DataCollatorForTokenClassification(tokenizer)"
   ]
  },
  {
   "cell_type": "markdown",
   "metadata": {},
   "source": [
    "With everything ready, we can now create the trainer:"
   ]
  },
  {
   "cell_type": "code",
   "execution_count": 30,
   "metadata": {},
   "outputs": [],
   "source": [
    "trainer = Trainer(\n",
    "    model=xlmr_model,\n",
    "    args=training_args,\n",
    "    data_collator=data_collator,\n",
    "    compute_metrics=compute_metrics,\n",
    "    train_dataset=train_ds,\n",
    "    eval_dataset=valid_ds,\n",
    "    tokenizer=tokenizer\n",
    ")"
   ]
  },
  {
   "cell_type": "markdown",
   "metadata": {},
   "source": [
    "Once the trainer has been created, with all the arguments set up, we can start training the model. We will train the model for just 5 epoch to validate the performance:"
   ]
  },
  {
   "cell_type": "code",
   "execution_count": 31,
   "metadata": {},
   "outputs": [
    {
     "name": "stderr",
     "output_type": "stream",
     "text": [
      " 20%|█▉        | 1016/5085 [20:20<57:52,  1.17it/s]  "
     ]
    },
    {
     "name": "stdout",
     "output_type": "stream",
     "text": [
      "{'loss': 0.0458, 'learning_rate': 4.000983284169125e-05, 'epoch': 1.0}\n"
     ]
    },
    {
     "name": "stderr",
     "output_type": "stream",
     "text": [
      "                                                     \n",
      " 20%|██        | 1017/5085 [25:29<3:29:09,  3.08s/it]"
     ]
    },
    {
     "name": "stdout",
     "output_type": "stream",
     "text": [
      "{'eval_loss': 0.034431781619787216, 'eval_f1_score': 1.0, 'eval_runtime': 301.3692, 'eval_samples_per_second': 12.566, 'eval_steps_per_second': 1.573, 'epoch': 1.0}\n"
     ]
    },
    {
     "name": "stderr",
     "output_type": "stream",
     "text": [
      " 40%|███▉      | 2032/5085 [37:56<36:53,  1.38it/s]    "
     ]
    },
    {
     "name": "stdout",
     "output_type": "stream",
     "text": [
      "{'loss': 0.0225, 'learning_rate': 3.0019665683382496e-05, 'epoch': 2.0}\n"
     ]
    },
    {
     "name": "stderr",
     "output_type": "stream",
     "text": [
      "                                                     \n",
      " 40%|████      | 2034/5085 [38:26<2:32:50,  3.01s/it]"
     ]
    },
    {
     "name": "stdout",
     "output_type": "stream",
     "text": [
      "{'eval_loss': 0.02540457993745804, 'eval_f1_score': 1.0, 'eval_runtime': 20.5542, 'eval_samples_per_second': 184.245, 'eval_steps_per_second': 23.061, 'epoch': 2.0}\n"
     ]
    },
    {
     "name": "stderr",
     "output_type": "stream",
     "text": [
      " 60%|█████▉    | 3048/5085 [50:32<22:54,  1.48it/s]  "
     ]
    },
    {
     "name": "stdout",
     "output_type": "stream",
     "text": [
      "{'loss': 0.0114, 'learning_rate': 2.002949852507375e-05, 'epoch': 3.0}\n"
     ]
    },
    {
     "name": "stderr",
     "output_type": "stream",
     "text": [
      "                                                     \n",
      " 60%|██████    | 3051/5085 [51:03<1:40:21,  2.96s/it]"
     ]
    },
    {
     "name": "stdout",
     "output_type": "stream",
     "text": [
      "{'eval_loss': 0.020322689786553383, 'eval_f1_score': 1.0, 'eval_runtime': 20.5078, 'eval_samples_per_second': 184.662, 'eval_steps_per_second': 23.113, 'epoch': 3.0}\n"
     ]
    },
    {
     "name": "stderr",
     "output_type": "stream",
     "text": [
      " 80%|███████▉  | 4064/5085 [1:03:19<12:26,  1.37it/s]"
     ]
    },
    {
     "name": "stdout",
     "output_type": "stream",
     "text": [
      "{'loss': 0.0065, 'learning_rate': 1.0039331366764996e-05, 'epoch': 4.0}\n"
     ]
    },
    {
     "name": "stderr",
     "output_type": "stream",
     "text": [
      "                                                       \n",
      " 80%|████████  | 4068/5085 [1:03:54<1:05:59,  3.89s/it]"
     ]
    },
    {
     "name": "stdout",
     "output_type": "stream",
     "text": [
      "{'eval_loss': 0.021588506177067757, 'eval_f1_score': 1.0, 'eval_runtime': 21.0323, 'eval_samples_per_second': 180.056, 'eval_steps_per_second': 22.537, 'epoch': 4.0}\n"
     ]
    },
    {
     "name": "stderr",
     "output_type": "stream",
     "text": [
      "100%|█████████▉| 5080/5085 [1:16:02<00:03,  1.60it/s]  "
     ]
    },
    {
     "name": "stdout",
     "output_type": "stream",
     "text": [
      "{'loss': 0.0035, 'learning_rate': 4.916420845624386e-08, 'epoch': 5.0}\n"
     ]
    },
    {
     "name": "stderr",
     "output_type": "stream",
     "text": [
      "                                                     \n",
      "100%|██████████| 5085/5085 [1:16:36<00:00,  1.11it/s]\n"
     ]
    },
    {
     "name": "stdout",
     "output_type": "stream",
     "text": [
      "{'eval_loss': 0.02431812323629856, 'eval_f1_score': 1.0, 'eval_runtime': 21.0365, 'eval_samples_per_second': 180.021, 'eval_steps_per_second': 22.532, 'epoch': 5.0}\n",
      "{'train_runtime': 4596.9961, 'train_samples_per_second': 8.842, 'train_steps_per_second': 1.106, 'train_loss': 0.017942733878788107, 'epoch': 5.0}\n"
     ]
    },
    {
     "data": {
      "text/plain": [
       "TrainOutput(global_step=5085, training_loss=0.017942733878788107, metrics={'train_runtime': 4596.9961, 'train_samples_per_second': 8.842, 'train_steps_per_second': 1.106, 'train_loss': 0.017942733878788107, 'epoch': 5.0})"
      ]
     },
     "execution_count": 31,
     "metadata": {},
     "output_type": "execute_result"
    }
   ],
   "source": [
    "trainer.train()"
   ]
  },
  {
   "cell_type": "code",
   "execution_count": 33,
   "metadata": {},
   "outputs": [
    {
     "name": "stderr",
     "output_type": "stream",
     "text": [
      "pytorch_model.bin: 100%|██████████| 1.11G/1.11G [01:13<00:00, 15.0MB/s]   \n"
     ]
    },
    {
     "data": {
      "text/plain": [
       "'https://huggingface.co/mmenendezg/xlm-roberta-base-pharmaconer/tree/main/'"
      ]
     },
     "execution_count": 33,
     "metadata": {},
     "output_type": "execute_result"
    }
   ],
   "source": [
    "trainer.push_to_hub(commit_message=\"First Training completed!\")"
   ]
  },
  {
   "cell_type": "markdown",
   "metadata": {},
   "source": [
    "The model has been trained and pushed to the Hub."
   ]
  },
  {
   "cell_type": "markdown",
   "metadata": {},
   "source": [
    "## Error Analysis"
   ]
  },
  {
   "cell_type": "markdown",
   "metadata": {},
   "source": [
    "In order to validate the performance of the model, we can take a look at the examples from the validation split with the highest loss. \n",
    "\n",
    "The first step is to create a funtion that obtains the predictions and losses for the validation set:"
   ]
  },
  {
   "cell_type": "code",
   "execution_count": 46,
   "metadata": {},
   "outputs": [],
   "source": [
    "def forward_pass_with_label(batch):\n",
    "    # Convert from dicts of lists to lists of dicts for the data collator\n",
    "    features = [dict(zip(batch, t)) for t in zip(*batch.values())]\n",
    "    # Pad inputs and labels and put all tensors on device\n",
    "    batch = data_collator(features)\n",
    "    input_ids = batch[\"input_ids\"].to(DEVICE)\n",
    "    attention_mask = batch[\"attention_mask\"].to(DEVICE)\n",
    "    labels = batch[\"labels\"].to(DEVICE)\n",
    "    with torch.no_grad():\n",
    "        output = trainer.model(input_ids, attention_mask)\n",
    "        # logit.size = [batch_size, sequence_length, classes]\n",
    "        predicted_label = torch.argmax(output.logits, axis=-1).cpu().numpy()\n",
    "\n",
    "    loss = cross_entropy(output.logits.view(-1, TAGS.num_classes), labels.view(-1), reduction=\"none\")\n",
    "    loss = loss.view(len(input_ids), -1).cpu().numpy()\n",
    "\n",
    "    return {\"loss\": loss, \"predicted_label\": predicted_label}"
   ]
  },
  {
   "cell_type": "markdown",
   "metadata": {},
   "source": [
    "We can now apply this to the validation set. By mapping the set with this function we will add 2 additional columns with the predictions (labels), and the losses of the predictions. Additionally, the new set will be batched to 32 examples per batch."
   ]
  },
  {
   "cell_type": "code",
   "execution_count": 47,
   "metadata": {},
   "outputs": [
    {
     "name": "stderr",
     "output_type": "stream",
     "text": [
      "Map: 100%|██████████| 3787/3787 [03:10<00:00, 19.92 examples/s] \n"
     ]
    }
   ],
   "source": [
    "valid_df = valid_ds.map(forward_pass_with_label, batched=True, batch_size=32)\n"
   ]
  },
  {
   "cell_type": "markdown",
   "metadata": {},
   "source": [
    "The next step is to map the ids of the tokens and labels to strings. For this, we will use the dictionary `index2tag`"
   ]
  },
  {
   "cell_type": "code",
   "execution_count": 48,
   "metadata": {},
   "outputs": [],
   "source": [
    "# Add the tag for the ignored tokens\n",
    "index2tag[-100] = \"IGN\"\n",
    "\n",
    "valid_df = valid_df.to_pandas()\n",
    "# Map the columns of the labels\n",
    "valid_df[\"input_tokens\"] = valid_df[\"input_ids\"].apply(\n",
    "    lambda x: tokenizer.convert_ids_to_tokens(x)\n",
    ")\n",
    "valid_df[\"predicted_label\"] = valid_df[\"predicted_label\"].apply(\n",
    "    lambda x: [index2tag[i] for i in x]\n",
    ")\n",
    "valid_df[\"labels\"] = valid_df[\"labels\"].apply(\n",
    "    lambda x: [index2tag[i] for i in x]\n",
    ")\n",
    "valid_df[\"loss\"] = valid_df.apply(\n",
    "    lambda x: x[\"loss\"][:len(x[\"input_ids\"])], axis=1\n",
    ")\n",
    "valid_df[\"predicted_label\"] = valid_df.apply(\n",
    "    lambda x: x[\"predicted_label\"][:len(x[\"input_ids\"])], axis=1\n",
    ")\n"
   ]
  },
  {
   "cell_type": "code",
   "execution_count": 49,
   "metadata": {},
   "outputs": [
    {
     "data": {
      "text/html": [
       "<div>\n",
       "<style scoped>\n",
       "    .dataframe tbody tr th:only-of-type {\n",
       "        vertical-align: middle;\n",
       "    }\n",
       "\n",
       "    .dataframe tbody tr th {\n",
       "        vertical-align: top;\n",
       "    }\n",
       "\n",
       "    .dataframe thead th {\n",
       "        text-align: right;\n",
       "    }\n",
       "</style>\n",
       "<table border=\"1\" class=\"dataframe\">\n",
       "  <thead>\n",
       "    <tr style=\"text-align: right;\">\n",
       "      <th></th>\n",
       "      <th>input_ids</th>\n",
       "      <th>attention_mask</th>\n",
       "      <th>labels</th>\n",
       "      <th>loss</th>\n",
       "      <th>predicted_label</th>\n",
       "      <th>input_tokens</th>\n",
       "    </tr>\n",
       "  </thead>\n",
       "  <tbody>\n",
       "    <tr>\n",
       "      <th>0</th>\n",
       "      <td>8933</td>\n",
       "      <td>1</td>\n",
       "      <td>O</td>\n",
       "      <td>0.0</td>\n",
       "      <td>O</td>\n",
       "      <td>ĠPaciente</td>\n",
       "    </tr>\n",
       "    <tr>\n",
       "      <th>0</th>\n",
       "      <td>11353</td>\n",
       "      <td>1</td>\n",
       "      <td>O</td>\n",
       "      <td>0.0</td>\n",
       "      <td>O</td>\n",
       "      <td>ĠvarÃ³n</td>\n",
       "    </tr>\n",
       "    <tr>\n",
       "      <th>0</th>\n",
       "      <td>262</td>\n",
       "      <td>1</td>\n",
       "      <td>O</td>\n",
       "      <td>0.0</td>\n",
       "      <td>O</td>\n",
       "      <td>Ġde</td>\n",
       "    </tr>\n",
       "    <tr>\n",
       "      <th>0</th>\n",
       "      <td>6093</td>\n",
       "      <td>1</td>\n",
       "      <td>O</td>\n",
       "      <td>0.0</td>\n",
       "      <td>O</td>\n",
       "      <td>Ġ37</td>\n",
       "    </tr>\n",
       "    <tr>\n",
       "      <th>0</th>\n",
       "      <td>638</td>\n",
       "      <td>1</td>\n",
       "      <td>O</td>\n",
       "      <td>0.0</td>\n",
       "      <td>O</td>\n",
       "      <td>ĠaÃ±os</td>\n",
       "    </tr>\n",
       "    <tr>\n",
       "      <th>0</th>\n",
       "      <td>262</td>\n",
       "      <td>1</td>\n",
       "      <td>O</td>\n",
       "      <td>0.0</td>\n",
       "      <td>O</td>\n",
       "      <td>Ġde</td>\n",
       "    </tr>\n",
       "    <tr>\n",
       "      <th>0</th>\n",
       "      <td>1154</td>\n",
       "      <td>1</td>\n",
       "      <td>O</td>\n",
       "      <td>0.0</td>\n",
       "      <td>O</td>\n",
       "      <td>Ġedad</td>\n",
       "    </tr>\n",
       "  </tbody>\n",
       "</table>\n",
       "</div>"
      ],
      "text/plain": [
       "  input_ids attention_mask labels  loss predicted_label input_tokens\n",
       "0      8933              1      O   0.0               O    ĠPaciente\n",
       "0     11353              1      O   0.0               O      ĠvarÃ³n\n",
       "0       262              1      O   0.0               O          Ġde\n",
       "0      6093              1      O   0.0               O          Ġ37\n",
       "0       638              1      O   0.0               O       ĠaÃ±os\n",
       "0       262              1      O   0.0               O          Ġde\n",
       "0      1154              1      O   0.0               O        Ġedad"
      ]
     },
     "execution_count": 49,
     "metadata": {},
     "output_type": "execute_result"
    }
   ],
   "source": [
    "valid_df = valid_df.apply(pd.Series.explode)\n",
    "# Remove the labels with -100\n",
    "valid_df = valid_df.query(\"labels != 'IGN'\")\n",
    "valid_df[\"loss\"] = valid_df[\"loss\"].astype(float).round(2)\n",
    "valid_df.head(7)"
   ]
  },
  {
   "cell_type": "code",
   "execution_count": 51,
   "metadata": {},
   "outputs": [
    {
     "data": {
      "text/html": [
       "<div>\n",
       "<style scoped>\n",
       "    .dataframe tbody tr th:only-of-type {\n",
       "        vertical-align: middle;\n",
       "    }\n",
       "\n",
       "    .dataframe tbody tr th {\n",
       "        vertical-align: top;\n",
       "    }\n",
       "\n",
       "    .dataframe thead th {\n",
       "        text-align: right;\n",
       "    }\n",
       "</style>\n",
       "<table border=\"1\" class=\"dataframe\">\n",
       "  <thead>\n",
       "    <tr style=\"text-align: right;\">\n",
       "      <th></th>\n",
       "      <th>0</th>\n",
       "      <th>1</th>\n",
       "      <th>2</th>\n",
       "      <th>3</th>\n",
       "      <th>4</th>\n",
       "      <th>5</th>\n",
       "      <th>6</th>\n",
       "      <th>7</th>\n",
       "      <th>8</th>\n",
       "    </tr>\n",
       "  </thead>\n",
       "  <tbody>\n",
       "    <tr>\n",
       "      <th>labels</th>\n",
       "      <td>I-UNCLEAR</td>\n",
       "      <td>I-NO_NORMALIZABLES</td>\n",
       "      <td>B-NO_NORMALIZABLES</td>\n",
       "      <td>I-NORMALIZABLES</td>\n",
       "      <td>B-UNCLEAR</td>\n",
       "      <td>I-PROTEINAS</td>\n",
       "      <td>B-NORMALIZABLES</td>\n",
       "      <td>B-PROTEINAS</td>\n",
       "      <td>O</td>\n",
       "    </tr>\n",
       "    <tr>\n",
       "      <th>count</th>\n",
       "      <td>3</td>\n",
       "      <td>8</td>\n",
       "      <td>16</td>\n",
       "      <td>184</td>\n",
       "      <td>44</td>\n",
       "      <td>299</td>\n",
       "      <td>1104</td>\n",
       "      <td>736</td>\n",
       "      <td>94612</td>\n",
       "    </tr>\n",
       "    <tr>\n",
       "      <th>mean</th>\n",
       "      <td>9.92</td>\n",
       "      <td>9.38</td>\n",
       "      <td>7.76</td>\n",
       "      <td>3.44</td>\n",
       "      <td>3.22</td>\n",
       "      <td>2.9</td>\n",
       "      <td>1.83</td>\n",
       "      <td>1.36</td>\n",
       "      <td>0.01</td>\n",
       "    </tr>\n",
       "    <tr>\n",
       "      <th>sum</th>\n",
       "      <td>29.76</td>\n",
       "      <td>75.04</td>\n",
       "      <td>124.19</td>\n",
       "      <td>632.93</td>\n",
       "      <td>141.85</td>\n",
       "      <td>868.06</td>\n",
       "      <td>2023.36</td>\n",
       "      <td>997.36</td>\n",
       "      <td>692.26</td>\n",
       "    </tr>\n",
       "  </tbody>\n",
       "</table>\n",
       "</div>"
      ],
      "text/plain": [
       "                0                   1                   2                3  \\\n",
       "labels  I-UNCLEAR  I-NO_NORMALIZABLES  B-NO_NORMALIZABLES  I-NORMALIZABLES   \n",
       "count           3                   8                  16              184   \n",
       "mean         9.92                9.38                7.76             3.44   \n",
       "sum         29.76               75.04              124.19           632.93   \n",
       "\n",
       "                4            5                6            7       8  \n",
       "labels  B-UNCLEAR  I-PROTEINAS  B-NORMALIZABLES  B-PROTEINAS       O  \n",
       "count          44          299             1104          736   94612  \n",
       "mean         3.22          2.9             1.83         1.36    0.01  \n",
       "sum        141.85       868.06          2023.36       997.36  692.26  "
      ]
     },
     "execution_count": 51,
     "metadata": {},
     "output_type": "execute_result"
    }
   ],
   "source": [
    "(\n",
    "    valid_df.groupby(\"labels\")[[\"loss\"]]\n",
    "    .agg([\"count\", \"mean\", \"sum\"])\n",
    "    .droplevel(level=0, axis=1)\n",
    "    .sort_values(by=\"mean\", ascending=False)\n",
    "    .reset_index()\n",
    "    .round(2)\n",
    "    .T\n",
    ")"
   ]
  },
  {
   "cell_type": "markdown",
   "metadata": {},
   "source": [
    "There's a clear pattern to see here: the model struggles to correctly classify the labels with lower count in the set. This is expected, since there are not many examples to look at. The model has ease when classifying proteins.\n",
    "\n",
    "Adding more examples would improve the overall f1-score of the model. \n",
    "\n",
    "We can finally take a look at the confusion matrix:"
   ]
  },
  {
   "cell_type": "code",
   "execution_count": 53,
   "metadata": {},
   "outputs": [],
   "source": [
    "def plot_confusion_matrix(y_preds, y_true, labels):\n",
    "    cm = confusion_matrix(y_true, y_preds, normalize=\"true\")\n",
    "    fig, ax = plt.subplots(figsize=(6, 6))\n",
    "    disp = ConfusionMatrixDisplay(confusion_matrix=cm, display_labels=labels)\n",
    "    disp.plot(cmap=\"Blues\", values_format=\".2f\", ax=ax, colorbar=False)\n",
    "    plt.title(\"Normalized confusion matrix\")\n",
    "    locs, labels = plt.xticks()\n",
    "    plt.setp(labels, rotation=45)\n",
    "    plt.show()"
   ]
  },
  {
   "cell_type": "code",
   "execution_count": 54,
   "metadata": {},
   "outputs": [
    {
     "data": {
      "image/png": "[encoded data removed]",
      "text/plain": [
       "<Figure size 600x600 with 1 Axes>"
      ]
     },
     "metadata": {},
     "output_type": "display_data"
    }
   ],
   "source": [
    "plot_confusion_matrix(valid_df[\"labels\"], valid_df[\"predicted_label\"], TAGS.names)"
   ]
  },
  {
   "cell_type": "markdown",
   "metadata": {},
   "source": [
    "The model tends to generalize well with the unclear examples, but predicts a lot of other labels as unclear. \n",
    "\n",
    "As reference, here below is an image of the same model trained using the `xlm-roberta-base` tokenizer:\n",
    "\n",
    "<img src=\"https://storage.googleapis.com/mmenendezg-ml-bucket/models/xlmr_pharmaconer/reports/images/xlmr_tokenizer_cm.png\"/>"
   ]
  },
  {
   "cell_type": "markdown",
   "metadata": {},
   "source": [
    "It performs better on the `UNCLEAR` AND `O` labels, but performs worst with the `NORMALIZABLES` tokens. The difference is not that bit for the rest of the tokens, maybe training the model for longer allows it to generalize better. If we need a better performance with the `PROTEINAS` or `NORMALIZABLES` my opinion is we should use the tokenizer `PlanTL-GOB-ES/roberta-base-biomedical-es`."
   ]
  },
  {
   "cell_type": "markdown",
   "metadata": {},
   "source": [
    "## References"
   ]
  },
  {
   "cell_type": "markdown",
   "metadata": {},
   "source": [
    "> 1. Aitor Gonzalez Agirre et al. “Pharmaconer: Pharmacological substances, compounds and proteins named entity recognition track”. In: Proceedings of The 5th Workshop on BioNLP Open Shared Tasks. 2019, pp. 1–10.\n"
   ]
  }
 ],
 "metadata": {
  "kernelspec": {
   "display_name": "Python 3 (ipykernel)",
   "language": "python",
   "name": "python3"
  },
  "language_info": {
   "codemirror_mode": {
    "name": "ipython",
    "version": 3
   },
   "file_extension": ".py",
   "mimetype": "text/x-python",
   "name": "python",
   "nbconvert_exporter": "python",
   "pygments_lexer": "ipython3",
   "version": "3.11.4"
  }
 },
 "nbformat": 4,
 "nbformat_minor": 4
}
