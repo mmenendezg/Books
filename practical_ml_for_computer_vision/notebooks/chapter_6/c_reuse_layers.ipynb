{
 "cells": [
  {
   "cell_type": "code",
   "execution_count": 1,
   "metadata": {},
   "outputs": [],
   "source": [
    "import os\n",
    "import time\n",
    "\n",
    "import matplotlib.pylab as plt\n",
    "import numpy as np\n",
    "\n",
    "import tensorflow as tf\n",
    "from tensorflow.keras import (\n",
    "    Sequential,\n",
    "    layers,\n",
    "    optimizers,\n",
    "    losses,\n",
    "    regularizers,\n",
    "    callbacks\n",
    ")\n",
    "import tensorflow_hub as hub"
   ]
  },
  {
   "cell_type": "code",
   "execution_count": 4,
   "metadata": {},
   "outputs": [
    {
     "name": "stdout",
     "output_type": "stream",
     "text": [
      "GPU found => /device:GPU:0\n"
     ]
    }
   ],
   "source": [
    "device_name = tf.test.gpu_device_name()\n",
    "\n",
    "if device_name != '/device:GPU:0':\n",
    "    raise SystemError('GPU not found!')\n",
    "else:\n",
    "    print(f'GPU found => {device_name}')"
   ]
  },
  {
   "cell_type": "markdown",
   "metadata": {},
   "source": [
    "# Constants"
   ]
  },
  {
   "cell_type": "code",
   "execution_count": 7,
   "metadata": {},
   "outputs": [],
   "source": [
    "IMG_HEIGHT = 224\n",
    "IMG_WIDTH = 224\n",
    "IMG_CHANNELS = 3\n",
    "\n",
    "TRAIN_URL = \"gs://practical-ml-vision-book/flowers_tfr/train-*\"\n",
    "VALID_URL = \"gs://practical-ml-vision-book/flowers_tfr/valid-*\"\n",
    "\n",
    "BATCH_SIZE = 512 if device_name != \"/device:GPU:0\" else 32\n",
    "CLASS_NAMES = 'daisy dandelion roses sunflowers tulips'.split()\n",
    "\n",
    "MODEL_URL = \"https://tfhub.dev/google/tf2-preview/mobilenet_v2/feature_vector/4\"\n"
   ]
  },
  {
   "cell_type": "markdown",
   "metadata": {},
   "source": [
    "# Helper Functions"
   ]
  },
  {
   "cell_type": "code",
   "execution_count": 6,
   "metadata": {},
   "outputs": [],
   "source": [
    "def get_logdir():\n",
    "    run_id = time.strftime('run_%Y_%m_%d-%H%M%S')\n",
    "    logdir = os.path.join('..', '..', 'reports', 'logs', run_id)\n",
    "    return logdir"
   ]
  },
  {
   "cell_type": "markdown",
   "metadata": {},
   "source": [
    "# Preprocessor"
   ]
  },
  {
   "cell_type": "code",
   "execution_count": null,
   "metadata": {},
   "outputs": [],
   "source": [
    "class _Preprocessor:\n",
    "    def __init__(self):\n",
    "        pass\n",
    "\n",
    "    def read_from_tfr(self, proto):\n",
    "        feature_description = {\n",
    "            \"image\": tf.io.VarLenFeature(tf.float32),\n",
    "            \"shape\": tf.io.VarLenFeature(tf.int64),\n",
    "            \"label\": tf.io.FixedLenFeature([], tf.string, default_value=\"\"),\n",
    "            \"label_int\": tf.io.FixedLenFeature([], tf.int64, default_value=0),\n",
    "        }\n",
    "\n",
    "        record = tf.io.parse_single_example(proto, feature_description)\n",
    "        shape = tf."
   ]
  },
  {
   "cell_type": "markdown",
   "metadata": {},
   "source": [
    "# Transfer Learning with MobileNet"
   ]
  }
 ],
 "metadata": {
  "interpreter": {
   "hash": "b20fb8559386147dc77cba9f7518a8c175fc982b8c10bebe842520e16b3ac5d9"
  },
  "kernelspec": {
   "display_name": "Python 3.9.10 ('.venv': poetry)",
   "language": "python",
   "name": "python3"
  },
  "language_info": {
   "codemirror_mode": {
    "name": "ipython",
    "version": 3
   },
   "file_extension": ".py",
   "mimetype": "text/x-python",
   "name": "python",
   "nbconvert_exporter": "python",
   "pygments_lexer": "ipython3",
   "version": "3.9.10"
  },
  "orig_nbformat": 4
 },
 "nbformat": 4,
 "nbformat_minor": 2
}
