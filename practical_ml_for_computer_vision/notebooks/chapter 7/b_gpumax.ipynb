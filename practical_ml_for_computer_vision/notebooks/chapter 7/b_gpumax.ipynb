{
 "cells": [
  {
   "cell_type": "markdown",
   "metadata": {},
   "source": [
    "# GPU Utilization"
   ]
  },
  {
   "cell_type": "markdown",
   "metadata": {},
   "source": [
    "## Ingest code"
   ]
  },
  {
   "cell_type": "markdown",
   "metadata": {},
   "source": [
    "## Setup"
   ]
  },
  {
   "cell_type": "code",
   "execution_count": null,
   "metadata": {},
   "outputs": [],
   "source": [
    "import os \n",
    "\n",
    "import matplotlib.pylab as plt\n",
    "import numpy as np\n",
    "\n",
    "import tensorflow as tf\n",
    "from tensorflow.keras import(\n",
    "    Sequential,\n",
    "    layers\n",
    ")"
   ]
  },
  {
   "cell_type": "code",
   "execution_count": null,
   "metadata": {},
   "outputs": [],
   "source": [
    "print(f'The version of TensorFlow is {tf.version.VERSION}')\n",
    "gpu_support = 'Yes!' if tf.test.gpu_device_name() != '' else 'No!'\n",
    "gpu_number = len(tf.config.list_physical_devices('GPU'))\n",
    "print(f'Built with GPU support? {gpu_support}')\n",
    "print(f'There are {gpu_number} GPUs')\n",
    "\n",
    "device_name = tf.test.gpu_device_name()\n",
    "if device_name == '':\n",
    "    raise SystemError('GPU device not found')\n",
    "else:\n",
    "    print(f'Found GPU at {device_name}')"
   ]
  },
  {
   "cell_type": "markdown",
   "metadata": {},
   "source": [
    "## Ingest Code"
   ]
  },
  {
   "cell_type": "code",
   "execution_count": null,
   "metadata": {},
   "outputs": [],
   "source": [
    "%%writefile input.txt\n",
    "gs://practical-ml-vision-book/images/california_fire1.jpg\n",
    "gs://practical-ml-vision-book/images/california_fire2.jpg"
   ]
  },
  {
   "cell_type": "code",
   "execution_count": null,
   "metadata": {},
   "outputs": [],
   "source": [
    "def read_jpeg(filename):\n",
    "    img = tf.io.read_file(filename)\n",
    "    img = tf.image.decode_jpeg(img, channels=3)\n",
    "    img = tf.image.convert_image_dtype(img, tf.float32)\n",
    "    img = tf.reshape(img, [338, 600, 3])\n",
    "    return img\n",
    "\n",
    "\n",
    "ds = tf.data.TextLineDataset(\"input.txt\").map(read_jpeg)\n",
    "_, ax = plt.subplots(1, 2, figsize=(15, 10))\n",
    "for idx, img in enumerate(ds):\n",
    "    ax[idx].imshow(img.numpy())\n"
   ]
  },
  {
   "cell_type": "markdown",
   "metadata": {},
   "source": [
    "## Adding a map function"
   ]
  },
  {
   "cell_type": "code",
   "execution_count": null,
   "metadata": {},
   "outputs": [],
   "source": [
    "def to_grayscale(img):\n",
    "    rows, cols, _ = img.shape\n",
    "    result = np.zeros([rows, cols], dtype=np.float32)\n",
    "    for row in range(rows):\n",
    "        for col in range(cols):\n",
    "            red = img[row][col][0]\n",
    "            green = img[row][col][1]\n",
    "            blue = img[row][col][2]\n",
    "            c_linear = 0.2126 * red + 0.7152 * green + 0.0722 * blue\n",
    "            if c_linear > 0.0031308:\n",
    "                result[row][col] = 1.055 * pow(c_linear, 1/2.4) - 0.055\n",
    "            else:\n",
    "                result[row][col] = 12.92 * c_linear\n",
    "    return result"
   ]
  },
  {
   "cell_type": "code",
   "execution_count": null,
   "metadata": {},
   "outputs": [],
   "source": [
    "def to_grayscale_vct(img):\n",
    "    wt = tf.constant([[0.2126], [0.7152], [0.0722]])\n",
    "    c_linear = tf.matmul(img, wt)  # (height, width, 3) x (3,1) -> (height, width)\n",
    "    gray = tf.where(\n",
    "        c_linear > 0.0031308,\n",
    "        1.055 * tf.pow(c_linear, 1 / 2.4) - 0.055,\n",
    "        12.92 * c_linear,\n",
    "    )\n",
    "    \n",
    "    return gray\n"
   ]
  },
  {
   "cell_type": "code",
   "execution_count": null,
   "metadata": {},
   "outputs": [],
   "source": [
    "%%time\n",
    "ds = tf.data.TextLineDataset('input.txt').repeat(10).map(read_jpeg)\n",
    "\n",
    "overall = tf.constant([0.], dtype=tf.float32)\n",
    "count = 0\n",
    "for img in ds:\n",
    "    gray = to_grayscale(img.numpy())\n",
    "    m = tf.reduce_mean(gray, axis=[0, 1])\n",
    "    overall += m\n",
    "    count += 1\n",
    "print(overall / count)"
   ]
  },
  {
   "cell_type": "code",
   "execution_count": null,
   "metadata": {},
   "outputs": [],
   "source": [
    "%%time \n",
    "ds = tf.data.TextLineDataset('input.txt').repeat(10).map(read_jpeg).map(to_grayscale_vct)\n",
    "\n",
    "overall = tf.constant([0.])\n",
    "count = 0\n",
    "for gray in ds:\n",
    "    m = tf.reduce_mean(gray, axis=[0, 1])\n",
    "    overall += m\n",
    "    count += 1\n",
    "print(overall/count)"
   ]
  },
  {
   "cell_type": "markdown",
   "metadata": {},
   "source": [
    "## Batching"
   ]
  },
  {
   "cell_type": "code",
   "execution_count": null,
   "metadata": {},
   "outputs": [],
   "source": [
    "class Grayscale(tf.keras.layers.Layer):\n",
    "    def __init__(self, **kwargs):\n",
    "        super(Grayscale, self).__init__(kwargs)\n",
    "\n",
    "    def call(self, img):\n",
    "        wt = tf.constant([[0.2126], [0.7152], [0.0722]])  # 3x1 matrix\n",
    "        c_linear = tf.matmul(img, wt)  # (N, ht,wd,3) x (3x1) -> (N, ht, wd)\n",
    "        gray = tf.where(\n",
    "            c_linear > 0.0031308,\n",
    "            1.055 * tf.pow(c_linear, 1 / 2.4) - 0.055,\n",
    "            12.92 * c_linear,\n",
    "        )\n",
    "        return gray  # (N, ht, wd)\n",
    "\n",
    "\n",
    "model = tf.keras.Sequential(\n",
    "    [\n",
    "        Grayscale(input_shape=(336, 600, 3)),\n",
    "        tf.keras.layers.Lambda(\n",
    "            lambda gray: tf.reduce_mean(gray, axis=[1, 2])\n",
    "        ),  # note axis change\n",
    "    ]\n",
    ")\n"
   ]
  },
  {
   "cell_type": "code",
   "execution_count": null,
   "metadata": {},
   "outputs": [],
   "source": []
  }
 ],
 "metadata": {
  "interpreter": {
   "hash": "b20fb8559386147dc77cba9f7518a8c175fc982b8c10bebe842520e16b3ac5d9"
  },
  "kernelspec": {
   "display_name": "Python 3.9.13 ('.venv': poetry)",
   "language": "python",
   "name": "python3"
  },
  "language_info": {
   "codemirror_mode": {
    "name": "ipython",
    "version": 3
   },
   "file_extension": ".py",
   "mimetype": "text/x-python",
   "name": "python",
   "nbconvert_exporter": "python",
   "pygments_lexer": "ipython3",
   "version": "3.9.13"
  },
  "orig_nbformat": 4
 },
 "nbformat": 4,
 "nbformat_minor": 2
}
