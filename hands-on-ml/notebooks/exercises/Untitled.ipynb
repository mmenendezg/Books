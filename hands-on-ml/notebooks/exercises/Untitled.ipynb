{
 "cells": [
  {
   "cell_type": "code",
   "execution_count": null,
   "id": "ff73d5f3-3bde-4dc6-8fc6-1cc3bd03962a",
   "metadata": {},
   "outputs": [],
   "source": [
    "def preprocess(serialized_image):\n",
    "    feature_descriptions = {\n",
    "        'image' : tf.io.FixedLenFeature([], tf.string, default_value=b''),\n",
    "        'label' : tf.io.FixedLenFeature([], tf.int64, default_value=0)\n",
    "    }\n",
    "    example = tf.io.parse_single_example(serialized_image,\n",
    "                                         feature_descriptions)\n",
    "    image = tf.io.parse_tensor(example['image'], out_type=tf.uint8)\n",
    "    image = tf.reshape(image, shape=(28, 28, 1))\n",
    "    return image, example['label']\n",
    "\n",
    "def get_data(filepaths, shuffle_buffer_size=None, batch_size=32):\n",
    "    list_files = tf.data.Dataset.list_files(filepaths)\n",
    "    dataset = tf.data.TFRecordDataset(list_files, num_parallel_reads=AUTOTUNE)\n",
    "    dataset = dataset.map(preprocess, num_parallel_calls=AUTOTUNE).cache()\n",
    "    if shuffle_buffer_size:\n",
    "        dataset = dataset.shuffle(shuffle_buffer_size)\n",
    "    \n",
    "    return dataset.batch(batch_size, num_parallel_calls=AUTOTUNE).prefetch(AUTOTUNE)"
   ]
  }
 ],
 "metadata": {
  "kernelspec": {
   "display_name": "Python 3 (ipykernel)",
   "language": "python",
   "name": "python3"
  },
  "language_info": {
   "codemirror_mode": {
    "name": "ipython",
    "version": 3
   },
   "file_extension": ".py",
   "mimetype": "text/x-python",
   "name": "python",
   "nbconvert_exporter": "python",
   "pygments_lexer": "ipython3",
   "version": "3.10.4"
  }
 },
 "nbformat": 4,
 "nbformat_minor": 5
}
